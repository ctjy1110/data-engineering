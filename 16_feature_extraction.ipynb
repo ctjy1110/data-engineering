{
 "cells": [
  {
   "cell_type": "markdown",
   "metadata": {},
   "source": [
    "## **16. 특징 추출 및 변환**"
   ]
  },
  {
   "cell_type": "code",
   "execution_count": 1,
   "metadata": {
    "tags": []
   },
   "outputs": [],
   "source": [
    "import pandas as pd\n",
    "import numpy as np\n",
    "from datetime import datetime\n",
    "from matplotlib import pyplot as plt\n",
    "import seaborn as sns"
   ]
  },
  {
   "cell_type": "code",
   "execution_count": 2,
   "metadata": {},
   "outputs": [],
   "source": [
    "%matplotlib ipympl"
   ]
  },
  {
   "cell_type": "code",
   "execution_count": 3,
   "metadata": {
    "tags": []
   },
   "outputs": [
    {
     "name": "stderr",
     "output_type": "stream",
     "text": [
      "C:\\Users\\ctjy1\\AppData\\Local\\Temp\\ipykernel_20768\\1189875795.py:8: FutureWarning: The argument 'date_parser' is deprecated and will be removed in a future version. Please use 'date_format' instead, or read your data in as 'object' dtype and then call 'to_datetime'.\n",
      "  df = pd.read_csv(input_file,\n"
     ]
    },
    {
     "data": {
      "text/html": [
       "<div>\n",
       "<style scoped>\n",
       "    .dataframe tbody tr th:only-of-type {\n",
       "        vertical-align: middle;\n",
       "    }\n",
       "\n",
       "    .dataframe tbody tr th {\n",
       "        vertical-align: top;\n",
       "    }\n",
       "\n",
       "    .dataframe thead th {\n",
       "        text-align: right;\n",
       "    }\n",
       "</style>\n",
       "<table border=\"1\" class=\"dataframe\">\n",
       "  <thead>\n",
       "    <tr style=\"text-align: right;\">\n",
       "      <th></th>\n",
       "      <th>CO(GT)</th>\n",
       "      <th>PT08.S1(CO)</th>\n",
       "      <th>PT08.S2(NMHC)</th>\n",
       "      <th>NOx(GT)</th>\n",
       "      <th>PT08.S3(NOx)</th>\n",
       "      <th>NO2(GT)</th>\n",
       "      <th>PT08.S4(NO2)</th>\n",
       "      <th>PT08.S5(O3)</th>\n",
       "      <th>RH</th>\n",
       "      <th>AH</th>\n",
       "      <th>C6H6(GT)</th>\n",
       "    </tr>\n",
       "    <tr>\n",
       "      <th>Datetime</th>\n",
       "      <th></th>\n",
       "      <th></th>\n",
       "      <th></th>\n",
       "      <th></th>\n",
       "      <th></th>\n",
       "      <th></th>\n",
       "      <th></th>\n",
       "      <th></th>\n",
       "      <th></th>\n",
       "      <th></th>\n",
       "      <th></th>\n",
       "    </tr>\n",
       "  </thead>\n",
       "  <tbody>\n",
       "    <tr>\n",
       "      <th>2004-03-10 18:00:00</th>\n",
       "      <td>2.6</td>\n",
       "      <td>1360.0</td>\n",
       "      <td>1046.0</td>\n",
       "      <td>166.0</td>\n",
       "      <td>1056.0</td>\n",
       "      <td>113.0</td>\n",
       "      <td>1692.0</td>\n",
       "      <td>1268.0</td>\n",
       "      <td>48.9</td>\n",
       "      <td>0.7578</td>\n",
       "      <td>11.9</td>\n",
       "    </tr>\n",
       "    <tr>\n",
       "      <th>2004-03-10 19:00:00</th>\n",
       "      <td>2.0</td>\n",
       "      <td>1292.0</td>\n",
       "      <td>955.0</td>\n",
       "      <td>103.0</td>\n",
       "      <td>1174.0</td>\n",
       "      <td>92.0</td>\n",
       "      <td>1559.0</td>\n",
       "      <td>972.0</td>\n",
       "      <td>47.7</td>\n",
       "      <td>0.7255</td>\n",
       "      <td>9.4</td>\n",
       "    </tr>\n",
       "    <tr>\n",
       "      <th>2004-03-10 20:00:00</th>\n",
       "      <td>2.2</td>\n",
       "      <td>1402.0</td>\n",
       "      <td>939.0</td>\n",
       "      <td>131.0</td>\n",
       "      <td>1140.0</td>\n",
       "      <td>114.0</td>\n",
       "      <td>1555.0</td>\n",
       "      <td>1074.0</td>\n",
       "      <td>54.0</td>\n",
       "      <td>0.7502</td>\n",
       "      <td>9.0</td>\n",
       "    </tr>\n",
       "    <tr>\n",
       "      <th>2004-03-10 21:00:00</th>\n",
       "      <td>2.2</td>\n",
       "      <td>1376.0</td>\n",
       "      <td>948.0</td>\n",
       "      <td>172.0</td>\n",
       "      <td>1092.0</td>\n",
       "      <td>122.0</td>\n",
       "      <td>1584.0</td>\n",
       "      <td>1203.0</td>\n",
       "      <td>60.0</td>\n",
       "      <td>0.7867</td>\n",
       "      <td>9.2</td>\n",
       "    </tr>\n",
       "    <tr>\n",
       "      <th>2004-03-10 22:00:00</th>\n",
       "      <td>1.6</td>\n",
       "      <td>1272.0</td>\n",
       "      <td>836.0</td>\n",
       "      <td>131.0</td>\n",
       "      <td>1205.0</td>\n",
       "      <td>116.0</td>\n",
       "      <td>1490.0</td>\n",
       "      <td>1110.0</td>\n",
       "      <td>59.6</td>\n",
       "      <td>0.7888</td>\n",
       "      <td>6.5</td>\n",
       "    </tr>\n",
       "  </tbody>\n",
       "</table>\n",
       "</div>"
      ],
      "text/plain": [
       "                     CO(GT)  PT08.S1(CO)  PT08.S2(NMHC)  NOx(GT)  \\\n",
       "Datetime                                                           \n",
       "2004-03-10 18:00:00     2.6       1360.0         1046.0    166.0   \n",
       "2004-03-10 19:00:00     2.0       1292.0          955.0    103.0   \n",
       "2004-03-10 20:00:00     2.2       1402.0          939.0    131.0   \n",
       "2004-03-10 21:00:00     2.2       1376.0          948.0    172.0   \n",
       "2004-03-10 22:00:00     1.6       1272.0          836.0    131.0   \n",
       "\n",
       "                     PT08.S3(NOx)  NO2(GT)  PT08.S4(NO2)  PT08.S5(O3)    RH  \\\n",
       "Datetime                                                                      \n",
       "2004-03-10 18:00:00        1056.0    113.0        1692.0       1268.0  48.9   \n",
       "2004-03-10 19:00:00        1174.0     92.0        1559.0        972.0  47.7   \n",
       "2004-03-10 20:00:00        1140.0    114.0        1555.0       1074.0  54.0   \n",
       "2004-03-10 21:00:00        1092.0    122.0        1584.0       1203.0  60.0   \n",
       "2004-03-10 22:00:00        1205.0    116.0        1490.0       1110.0  59.6   \n",
       "\n",
       "                         AH  C6H6(GT)  \n",
       "Datetime                               \n",
       "2004-03-10 18:00:00  0.7578      11.9  \n",
       "2004-03-10 19:00:00  0.7255       9.4  \n",
       "2004-03-10 20:00:00  0.7502       9.0  \n",
       "2004-03-10 21:00:00  0.7867       9.2  \n",
       "2004-03-10 22:00:00  0.7888       6.5  "
      ]
     },
     "execution_count": 3,
     "metadata": {},
     "output_type": "execute_result"
    }
   ],
   "source": [
    "# 데이터 읽어오기\n",
    "\n",
    "def parser(x):\n",
    "    return datetime.strptime(x, '%Y-%m-%d %H:%M:%S')\n",
    "\n",
    "input_file = './data/AirQualityUCI_refined.csv'\n",
    "\n",
    "df = pd.read_csv(input_file,\n",
    "                 index_col=[0],\n",
    "                 parse_dates=[0],\n",
    "                 date_parser=parser)\n",
    "\n",
    "df.head()"
   ]
  },
  {
   "cell_type": "code",
   "execution_count": 4,
   "metadata": {
    "tags": []
   },
   "outputs": [
    {
     "name": "stdout",
     "output_type": "stream",
     "text": [
      "Warning: Cannot change to a different GUI toolkit: qt5. Using ipympl instead.\n"
     ]
    },
    {
     "data": {
      "text/plain": [
       "<contextlib.ExitStack at 0x19d755e0880>"
      ]
     },
     "execution_count": 4,
     "metadata": {},
     "output_type": "execute_result"
    }
   ],
   "source": [
    " # 시각화 설정 옵션\n",
    "%matplotlib qt5\n",
    "%config InlineBackend.figure_format = 'svg'\n",
    "\n",
    "plt.rcParams['figure.figsize'] = [12, 5]\n",
    "plt.rcParams['font.size'] = 13\n",
    "plt.ion()"
   ]
  },
  {
   "cell_type": "code",
   "execution_count": 5,
   "metadata": {
    "tags": []
   },
   "outputs": [],
   "source": [
    "# [+] 일산화탄소 변수 결측 데이터 처리\n",
    "co = df['CO(GT)'].copy()  # 복사본 생성\n",
    "co.interpolate(inplace=True) # 선형 보간 (inplace=True를 써야지 덮어쓰기가 됨.)"
   ]
  },
  {
   "cell_type": "markdown",
   "metadata": {},
   "source": [
    "### **구간화**(binning)"
   ]
  },
  {
   "cell_type": "code",
   "execution_count": 6,
   "metadata": {
    "tags": []
   },
   "outputs": [
    {
     "name": "stdout",
     "output_type": "stream",
     "text": [
      "11.9 0.0\n"
     ]
    }
   ],
   "source": [
    "# [+] 최대값, 최소값\n",
    "max_val = co.max()\n",
    "min_val = co.min()\n",
    "\n",
    "print(max_val, min_val)"
   ]
  },
  {
   "cell_type": "code",
   "execution_count": 7,
   "metadata": {
    "tags": []
   },
   "outputs": [
    {
     "data": {
      "text/plain": [
       "array([ 0.  ,  2.38,  4.76,  7.14,  9.52, 11.9 ])"
      ]
     },
     "execution_count": 7,
     "metadata": {},
     "output_type": "execute_result"
    }
   ],
   "source": [
    "# [+] 구간 별 기준 값 집합 생성\n",
    "bins = np.linspace(min_val, max_val, 6)\n",
    "bins"
   ]
  },
  {
   "cell_type": "code",
   "execution_count": 8,
   "metadata": {
    "tags": []
   },
   "outputs": [],
   "source": [
    "# 구간에 대한 레이블 집합\n",
    "labels=['0 <=x<2.38', '2.38<=x<4.76', '4.76<=x<7.14',\n",
    "       '7.14<=x<9.52', '9.52<=x<11.9']"
   ]
  },
  {
   "cell_type": "code",
   "execution_count": 9,
   "metadata": {
    "tags": []
   },
   "outputs": [
    {
     "name": "stdout",
     "output_type": "stream",
     "text": [
      "<class 'pandas.core.frame.DataFrame'>\n",
      "DatetimeIndex: 9357 entries, 2004-03-10 18:00:00 to 2005-04-04 14:00:00\n",
      "Data columns (total 12 columns):\n",
      " #   Column         Non-Null Count  Dtype   \n",
      "---  ------         --------------  -----   \n",
      " 0   CO(GT)         7765 non-null   float64 \n",
      " 1   PT08.S1(CO)    8991 non-null   float64 \n",
      " 2   PT08.S2(NMHC)  8991 non-null   float64 \n",
      " 3   NOx(GT)        7718 non-null   float64 \n",
      " 4   PT08.S3(NOx)   8991 non-null   float64 \n",
      " 5   NO2(GT)        7715 non-null   float64 \n",
      " 6   PT08.S4(NO2)   8991 non-null   float64 \n",
      " 7   PT08.S5(O3)    8991 non-null   float64 \n",
      " 8   RH             8991 non-null   float64 \n",
      " 9   AH             8991 non-null   float64 \n",
      " 10  C6H6(GT)       9357 non-null   float64 \n",
      " 11  bins           9357 non-null   category\n",
      "dtypes: category(1), float64(11)\n",
      "memory usage: 886.6 KB\n"
     ]
    }
   ],
   "source": [
    "# 일산화탄소 변수(수치형)에 대한 범주형 변수 생성\n",
    "df['bins'] = pd.cut(\n",
    "    co, \n",
    "    bins=bins, \n",
    "    labels=labels, \n",
    "    include_lowest=True\n",
    ")\n",
    "\n",
    "df.info()"
   ]
  },
  {
   "cell_type": "code",
   "execution_count": 10,
   "metadata": {
    "tags": []
   },
   "outputs": [
    {
     "data": {
      "text/html": [
       "<div>\n",
       "<style scoped>\n",
       "    .dataframe tbody tr th:only-of-type {\n",
       "        vertical-align: middle;\n",
       "    }\n",
       "\n",
       "    .dataframe tbody tr th {\n",
       "        vertical-align: top;\n",
       "    }\n",
       "\n",
       "    .dataframe thead th {\n",
       "        text-align: right;\n",
       "    }\n",
       "</style>\n",
       "<table border=\"1\" class=\"dataframe\">\n",
       "  <thead>\n",
       "    <tr style=\"text-align: right;\">\n",
       "      <th></th>\n",
       "      <th>CO(GT)</th>\n",
       "      <th>bins</th>\n",
       "    </tr>\n",
       "    <tr>\n",
       "      <th>Datetime</th>\n",
       "      <th></th>\n",
       "      <th></th>\n",
       "    </tr>\n",
       "  </thead>\n",
       "  <tbody>\n",
       "    <tr>\n",
       "      <th>2004-03-10 18:00:00</th>\n",
       "      <td>2.6</td>\n",
       "      <td>2.38&lt;=x&lt;4.76</td>\n",
       "    </tr>\n",
       "    <tr>\n",
       "      <th>2004-03-10 19:00:00</th>\n",
       "      <td>2.0</td>\n",
       "      <td>0 &lt;=x&lt;2.38</td>\n",
       "    </tr>\n",
       "    <tr>\n",
       "      <th>2004-03-10 20:00:00</th>\n",
       "      <td>2.2</td>\n",
       "      <td>0 &lt;=x&lt;2.38</td>\n",
       "    </tr>\n",
       "    <tr>\n",
       "      <th>2004-03-10 21:00:00</th>\n",
       "      <td>2.2</td>\n",
       "      <td>0 &lt;=x&lt;2.38</td>\n",
       "    </tr>\n",
       "    <tr>\n",
       "      <th>2004-03-10 22:00:00</th>\n",
       "      <td>1.6</td>\n",
       "      <td>0 &lt;=x&lt;2.38</td>\n",
       "    </tr>\n",
       "    <tr>\n",
       "      <th>...</th>\n",
       "      <td>...</td>\n",
       "      <td>...</td>\n",
       "    </tr>\n",
       "    <tr>\n",
       "      <th>2005-04-04 10:00:00</th>\n",
       "      <td>3.1</td>\n",
       "      <td>2.38&lt;=x&lt;4.76</td>\n",
       "    </tr>\n",
       "    <tr>\n",
       "      <th>2005-04-04 11:00:00</th>\n",
       "      <td>2.4</td>\n",
       "      <td>2.38&lt;=x&lt;4.76</td>\n",
       "    </tr>\n",
       "    <tr>\n",
       "      <th>2005-04-04 12:00:00</th>\n",
       "      <td>2.4</td>\n",
       "      <td>2.38&lt;=x&lt;4.76</td>\n",
       "    </tr>\n",
       "    <tr>\n",
       "      <th>2005-04-04 13:00:00</th>\n",
       "      <td>2.1</td>\n",
       "      <td>0 &lt;=x&lt;2.38</td>\n",
       "    </tr>\n",
       "    <tr>\n",
       "      <th>2005-04-04 14:00:00</th>\n",
       "      <td>2.2</td>\n",
       "      <td>0 &lt;=x&lt;2.38</td>\n",
       "    </tr>\n",
       "  </tbody>\n",
       "</table>\n",
       "<p>9357 rows × 2 columns</p>\n",
       "</div>"
      ],
      "text/plain": [
       "                     CO(GT)          bins\n",
       "Datetime                                 \n",
       "2004-03-10 18:00:00     2.6  2.38<=x<4.76\n",
       "2004-03-10 19:00:00     2.0    0 <=x<2.38\n",
       "2004-03-10 20:00:00     2.2    0 <=x<2.38\n",
       "2004-03-10 21:00:00     2.2    0 <=x<2.38\n",
       "2004-03-10 22:00:00     1.6    0 <=x<2.38\n",
       "...                     ...           ...\n",
       "2005-04-04 10:00:00     3.1  2.38<=x<4.76\n",
       "2005-04-04 11:00:00     2.4  2.38<=x<4.76\n",
       "2005-04-04 12:00:00     2.4  2.38<=x<4.76\n",
       "2005-04-04 13:00:00     2.1    0 <=x<2.38\n",
       "2005-04-04 14:00:00     2.2    0 <=x<2.38\n",
       "\n",
       "[9357 rows x 2 columns]"
      ]
     },
     "execution_count": 10,
     "metadata": {},
     "output_type": "execute_result"
    }
   ],
   "source": [
    "# bins 변수 출력\n",
    "df[['CO(GT)','bins']]"
   ]
  },
  {
   "cell_type": "code",
   "execution_count": 11,
   "metadata": {
    "tags": []
   },
   "outputs": [
    {
     "data": {
      "application/vnd.jupyter.widget-view+json": {
       "model_id": "a4cafe180b474111802bbd7761c9441c",
       "version_major": 2,
       "version_minor": 0
      },
      "image/png": "[encoded data removed]",
      "text/html": [
       "\n",
       "            <div style=\"display: inline-block;\">\n",
       "                <div class=\"jupyter-widgets widget-label\" style=\"text-align: center;\">\n",
       "                    Figure\n",
       "                </div>\n",
       "                <img src='data:image/png;base64,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' width=1200.0/>\n",
       "            </div>\n",
       "        "
      ],
      "text/plain": [
       "Canvas(toolbar=Toolbar(toolitems=[('Home', 'Reset original view', 'home', 'home'), ('Back', 'Back to previous …"
      ]
     },
     "metadata": {},
     "output_type": "display_data"
    }
   ],
   "source": [
    "# bins 변수의 히스토그램 시각화\n",
    "plt.hist(sorted(df['bins']), bins=len(bins)-1)\n",
    "plt.show()"
   ]
  },
  {
   "cell_type": "markdown",
   "metadata": {},
   "source": [
    "### **로그 변환**(log transformation)"
   ]
  },
  {
   "cell_type": "code",
   "execution_count": 12,
   "metadata": {
    "tags": []
   },
   "outputs": [
    {
     "data": {
      "text/plain": [
       "<seaborn.axisgrid.FacetGrid at 0x19d647028f0>"
      ]
     },
     "execution_count": 12,
     "metadata": {},
     "output_type": "execute_result"
    },
    {
     "data": {
      "application/vnd.jupyter.widget-view+json": {
       "model_id": "56821c432e5047aea174639178a36ca5",
       "version_major": 2,
       "version_minor": 0
      },
      "image/png": "[encoded data removed]",
      "text/html": [
       "\n",
       "            <div style=\"display: inline-block;\">\n",
       "                <div class=\"jupyter-widgets widget-label\" style=\"text-align: center;\">\n",
       "                    Figure\n",
       "                </div>\n",
       "                <img src='data:image/png;base64,iVBORw0KGgoAAAANSUhEUgAAAfQAAAH0CAYAAADL1t+KAAAAOXRFWHRTb2Z0d2FyZQBNYXRwbG90bGliIHZlcnNpb24zLjkuMiwgaHR0cHM6Ly9tYXRwbG90bGliLm9yZy8hTgPZAAAACXBIWXMAAA9hAAAPYQGoP6dpAABptElEQVR4nO3deXxTVd4G8OdmT5p0b4EuLIUKlR0LAgOCiuu4O+C4DK7ojMi8gKMjioroiM4iCDgo8CouoyKoIzOAr6CgsrdsBWWnQDfovmfPef9IEwltoS1Jb5I+38+nH+Xm9OZ30zRPz7nnnisJIQSIiIgopCnkLoCIiIguHgOdiIgoDDDQiYiIwgADnYiIKAww0ImIiMIAA52IiCgMMNCJiIjCAAOdiIgoDDDQiYiIwgADnYiIKAww0ImIiMIAA52IiCgMMNCJiIjCAAOdiIgoDDDQiYiIwgADnYiIKAww0ImIiMIAA52IiCgMMNADRAiB6upqCCHkLoWIiDoABnqA1NTUICoqCjU1NXKXQkREHQADnYiIKAyEZKBLktTkl9FobNT20KFDuO222xATE4OIiAiMHj0a3333XZP7raqqwpQpU5CcnAydToe+ffti0aJFHDYnIqKgp5K7gLYaPXo0Hn30UZ9tarXa59/Hjh3DyJEjoVKp8PTTTyMqKgpLlizBddddh7Vr12LcuHHetjabDddccw12796NKVOmICMjA2vXrsXjjz+OM2fOYNasWe1xWERERG0iiRDsfkqShPvvvx/Lli07b7sJEybg888/x86dOzFo0CAAQG1tLfr27QudToeDBw9CkiQAwD//+U9MnjwZ8+fPx5QpU7z7uPPOO/Gf//wHR44cQbdu3VpcY3V1NaKiolBVVYXIyMhWHyMREVFrhOSQu4fNZkNtbW2Tj9XV1WHVqlUYO3asN8wBwGg04pFHHsHhw4eRlZXl3f7xxx/DYDBg0qRJPvuZOnUq7HY7li9fHpBjICIi8oeQDfSVK1fCYDDAZDIhMTERU6ZMQVVVlffxnJwcWK1WjBgxotH3Dh8+HAC8ge5yubBr1y4MHjwYOp3Op+2wYcMgSZJP+BMREQWbkDyHPmzYMIwfPx69evVCdXU11qxZg4ULF+L777/Hli1bYDQaUVhYCABITk5u9P2ebQUFBQCAiooKmM3mJttqtVrEx8d72zbHarXCarV6/11dXd3m4yMiImqtkAz07du3+/x74sSJGDBgAJ577jm8+eabeO6551BfXw/AHcjn8vTCPW3O19bT3tOmOXPmzMFLL73UugMhIiLyk5Adcj/XU089BY1Gg9WrVwMADAYDAPj0mj0sFotPm/O19bT3tGnOjBkzUFVV5f3Ky8tr24EQERG1QUj20JuiVquRlJSE0tJSAEBSUhIANDlU7tnmGWKPiYmBXq9vsq3VakVpaSnGjBlz3ufXarXN9vCJiIgCLWx66BaLBfn5+ejUqRMAoH///tBqtdi6dWujttu2bQMAZGZmAgAUCgWGDBmC3bt3N+ql79ixA0IIb1siIqJgFHKBXlZW1uT2559/Hg6HAzfffDMA9+VpN998MzZu3Ii9e/d629XW1mLp0qVIT0/HsGHDvNvvvvtu1NfXY/HixT77nTdvHlQqFe66664AHA0REZF/hNzCMtOmTcO2bdtw5ZVXomvXrqitrcWaNWuwYcMGXH755diwYQP0ej0A4OjRoxg2bBjUajWmTZuGyMhILFmyBPv27cPq1atx3XXXefdrs9kwcuRI7N27F3/84x+RkZGBNWvW4Msvv8TMmTPx8ssvt6pOLixDRETtKeQC/auvvsI///lP7N+/H2VlZVAqlUhPT8eECRMwffr0RteRHzhwAM888wy+//572Gw2DBkyBLNmzfJZ9tWjsrISM2fOxBdffIGysjL07NkTjz/+OCZPnuxdUa6lGOhERNSeQi7QQwUDnYiI2lPInUMnIiKixhjoREREYSBsrkOnjsFisSA7O9tnW2ZmZqO5E0REHQ0DnUJKdnY25i1fhy5pvQEARccPYSqAUaNGyVoXEZHcGOgUcrqk9UZaPy70Q0R0Np5DJyIiCgMMdCIiojDAQCciIgoDDHQiIqIwwEAnIiIKA5zlTkGjLdeYO+w25OTkNNrOa9OJqKNhoFPQaMs15sV5uVhZUYED1mjvNl6bTkQdEQOdgkpbrjGPT0njdelE1OHxHDoREVEYYKATERGFAQ65U9BqasJbTk4OLPZInK62wKTl25eIyIOfiBS0zp3wVutQYEu+EVZ9DFCeB0kCIrXpSEW1vIUSEQUBDrlTUPNMeHMl9sGmykhY9XEAAL1aCSGAKlUMDiAF+RX1MldKRCQvBjoFveIaC77+6TTsTgGjsxoDkYtHr0jD74Z3g9FZDSeU+PeeQoY6EXVoDHQKag4osGbfaThdAj3iI3CJ5SC0cAAAYiM0SLccQjRq4XQJfPPzGVgdTpkrJiKSBwOdgloe4lFltsOkU+HaSztBOudxBQR64jSi9GrUWBz4/nCJLHUSEcmNgU5ByyJpUYJIAMB1l3aGTq1ssp0SAtde2gkAcKCoBqW2ptsREYUzBjoFrUJNCgAJ3eMMSI7Rn7dtUrQeA5KjAACHa7mGOxF1PAx0CkqltVZUqNwz2kf2jG/R92R2j4FSklBmV+FAmSOQ5RERBR0GOgWlvXmVAIAY1CDBpG3R95h0alya5B6i//KwJVClEREFJQY6BR2rw4lDZ2oAAJ1R2arvzeweAwkCP5c5ceh0TQCqIyIKTgx0CjqHT9fC7hTQucwwonU97UidGp207uH2lTvzAlEeEVFQYqBT0NlfWAUAiLcXN7pMrSVSdTYAwJe7C2B3uvxYGRFR8GKgU1CpsitQXGOFUpIQ5yhr0z4StQ5EaiSU1tqw8RCvSyeijoGBTkGlyKoGAHSPN0CFts1UV0jAqBT3flZkc9idiDoGBjoFlSKLO4h7JRovaj+jUjQAgI2HS1Bv4yVsRBT+GOgUNApqnKh1KqGQgB7xERe1r1STAikxetgcLmw+2raheyKiUML7oZMsLBYLsrOzfbb9Z08+gGh0jTVAq7q45VslScK4jE5YtuUEvj1wBtc0LA1LRBSuGOgki+zsbMxbvg5d0np7t20vBqC9+OF2j6v6JGLZlhP47mAxXC4BhaItc+aJiEIDA51k0yWtN9L6ZQIAaix22M+cACCQFu+fQL88LRYRGiWKa6zYX1iFASnRftkvEVEw4jl0CgqnyusBABGwQK/xz93StColRqcnAADWHyj2yz6JiIIVe+gUFE6WuQM9CvV+3e+VfRLw9U+n8fWu4xim9w31zMxM6HS8MxsRhQcGOsnOJQTyygMT6MPT3HdsO1Jux8c7TkHZcBq96PghTAUwatQovz4fEZFcGOgku+IaKywOF5TCAaPk37ukdY01IEYrocKqgD7lUqTEGPy6fyKiYMFz6CS7Uw3D7SZndZvWbj8fSZLQO879d2tBhdnPeyciCh4MdJKdZ0JcpLMqIPvPiHNPssuvZKATUfjikDvJyuF04XSVe5jd5KwGcPFD4g67DTk5Od5/S6XHASThdJUFTpeAktejE1EYYqCTrM5UW+EUAgaNEto6K/wR6MV5uVhZUYED1mgAQM6mLVCl3waHS4XiGgu6ROkv+jmIiIINA51kVdAwDJ4crYdU4b/9xqekeRetKTx+CNWwoAJGFFSaGehEFJZ4Dp1kdXagB1IE3MP6xdXWgD4PEZFcGOgkG5cAiqrcgZ7UXoFew0AnovDEQCfZVDuUsDsFtCoF4oyagD5XBNxBXmW2w2J3BvS5iIjkwEAn2ZTZ3JeTdYnSQSEFdua5Ci5E6dUAgDPV/l28hogoGDDQSTYVdveczECfP/foZNIC4LA7EYUnBjrJpsLu7qF3jmqfG6QkRrqfhxPjiCgcMdBJFhUWFywuBSQAiaZ2CvSGHvqZGg65E1H4YaCTLI5VuiemxRk10Kja522YGOkO9BqLA1YXV4sjovDCQCdZHKtwB3qnyPa7H7lWpUR0w8S4qobhfiKicMFAJ1kcq3QAADq3Y6ADQLyxoZfu4FufiMILP9Wo3TldAscbhtzba0Kch+d69xoHe+hEFF4Y6NTujhbXwuIElJJAbERgF5Q51y+Bzrc+EYUXfqpRu9ubVwkAiFY5A76gzLniIzxD7kq4hGjX5yYiCiQGOrW7/YVVAIBodfsvwRqlV0OpkOCEhJJ6V7s/PxFRoDDQqd3tL3AHepSq/QNdoZC8w/z5NQx0IgofDHRqV06XwIGiGgBApAw9dACI8wY6b9JCROGDgU7tKre0Fma7E1olYFTK00P2TIzLYw+diMIIA53a1f6CagBA10gl2nk+nJdnYhx76EQUThjo1K5+apgQ1z1KvuvAPT30oloXbA720okoPDDQqV15eujdI+ULdKNWBaUk4BTAqfJ62eogIvInBjq1GyFEUPTQJUmCUekebj9WUitbHURE/qSSuwAKPxaLBdnZ2Y22d+7ZF9UWB9RKCckmef+WNKpcqHIAx0vqZK2DiMhfwqKHXl9fj7S0NEiShCeeeKLR44cOHcJtt92GmJgYREREYPTo0fjuu++a3FdVVRWmTJmC5ORk6HQ69O3bF4sWLYLgqmItlp2djXnL12F51inv17zl6/DfzXsAAOmJJqgU8t6+VC/ZAQBbfzqGTZs2YdOmTbBYeJ90IgpdYdFDf+GFF1BSUtLkY8eOHcPIkSOhUqnw9NNPIyoqCkuWLMF1112HtWvXYty4cd62NpsN11xzDXbv3o0pU6YgIyMDa9euxeOPP44zZ85g1qxZ7XREoa9LWm+k9cv02ZZX7R7m7tPFBEDeoW5nRRGg64V9p81YbitF0fFDmApg1KhRstZFRNRWIR/ou3btwrx58/DXv/4VTz75ZKPHZ8yYgcrKSuzcuRODBg0CAEycOBF9+/bF5MmTcfDgQUgN108tXboUWVlZmD9/PqZMmQIAmDRpEu688068+uqrePDBB9GtW7d2O7Zwk9dwmVifzvIHuk6YAQBmoUFavwxZayEi8oeQHnJ3Op2YNGkSrr/+etxxxx2NHq+rq8OqVaswduxYb5gDgNFoxCOPPILDhw8jKyvLu/3jjz+GwWDApEmTfPYzdepU2O12LF++PGDH0hHkVbsvEevdOVLmSgCdywoAsDhcMNt4PToRhb6QDvS5c+fi4MGDWLhwYZOP5+TkwGq1YsSIEY0eGz58OAB4A93lcmHXrl0YPHgwdDrfe3QPGzYMkiT5hD+1jlMAp+vcgZ7R2SRzNYACLmjgPo9eXm+TuRoioosXsoGem5uLF198ES+88AK6d+/eZJvCwkIAQHJycqPHPNsKCgoAABUVFTCbzU221Wq1iI+P97ZtitVqRXV1tc8X/aLGoYAAEGNQI8GklbscAIAO7iCvYKATURgI2UD//e9/j7S0NEyfPr3ZNvX17kVDtNrGAeLphXvanK+tp72nTVPmzJmDqKgo71dqamrLDqSDqHG4rzvv3dnknbMgN31DD72yzi5zJUREFy8kA/2jjz7CunXrsGjRIqjV6mbbGQwGAO7e87k8lyh52pyvrae9p01TZsyYgaqqKu9XXl5eyw6mg6huCPQ+QXD+3MPTQ+eQOxGFg5Cb5W61WjF9+nTceOON6Ny5M44ePQrgl6HzqqoqHD16FPHx8UhKSvJ57GyebZ4h9piYGOj1+ibbWq1WlJaWYsyYMc3WpdVqm+3dE1DtcP/t2CcIzp97+Ay5B09ZRERtEnI9dLPZjJKSEqxevRrp6ener7FjxwJw997T09OxdOlS9O/fH1qtFlu3bm20n23btgEAMjPd10orFAoMGTIEu3fvbtRL37FjB4QQ3rbUemcPuQcLXcOQe7XZDq4bREShLuR66BEREVixYkWj7SUlJXj88cdx/fXX4+GHH8aAAQNgNBpx880344svvsDevXsxcOBAAEBtbS2WLl2K9PR0DBs2zLuPu+++G5s3b8bixYu916EDwLx586BSqXDXXXcF/gDDkNnuhNXl/tvxkk7BE+gaOKCQAJcAzK7gOK9PRNRWIRfoarUav/nNbxptP3HiBACgZ8+ePo/PmTMH3377La699lpMmzYNkZGRWLJkCQoKCrB69WqfCVqTJk3Ce++9h+nTp+PEiRPIyMjAmjVr8OWXX2LmzJnNzqan8yuvdQ9tRykd2J3lHhnJycmB0ylvuEsAIvVqVNbbUe8MucEqIiIfIRfordWrVy9s3rwZzzzzDF577TXYbDYMGTIEX3/9tc+yrwCg0Wiwfv16zJw5E5988gnKysrQs2dPLFiwAJMnT5bpCEJfWZ37FIattgLLs9w3Q9m3KQuJ6QORLmdhAKIaAr3OwUAnotAWNoHevXv3Zm+gkpGRga+++qpF+4mOjsbChQubXayGWq+8rqGHrld513cvPH5IzpK8ovVqnARQ55Tvdq5ERP7AbgkFnCfQ9Qi+y8Oi9O7LHjnkTkShjp9iFHC/BHrT1/jLKcrgDvQ6BjoRhTh+ilFAWexO1DXc/MSzMlswidZrALh76LznPRGFMgY6BZSnd652WaGES+ZqGovUuaeROISEGhsDnYhCFwOdAso73O6yyFxJ01RKBYxad6ifqQ++PziIiFqKgU4B5Ql0nTDLXEnzPBPjztQx0IkodDHQKaB+6aEHb6BHN0yMK2YPnYhCGAOdAspzJzNdEAe6p4dezB46EYUwBjoFjN3pQo3FAQDQBek5dOCsIXf20IkohDHQKWAq692XqenUCqjgkLma5vEcOhGFAwY6BYzn/HmMQSNzJecX3RDo1TaBWmvw/uFBRHQ+DHQKmIr60Ah0rVoJteTunZ8qq5e5GiKitmGgU8B4Aj02IrgDHQAilA2BXl4ncyVERG3DQKeAqahzn0OPabgsLJhFqNyBfpI9dCIKUQx0CgghzhpyD4EeuqGhh36CgU5EIYqBTgFhdklwuAQUEhCpC4EeOofciSjEMdApIOocSgDuS8KUCknmai7M00PnkDsRhSoGOgVEbcP9xYN9hruHp4deWGmGzcHr0Yko9DDQKSBqHQ2BHgLnzwFAqxDQKgGXAAoqg3eZWiKi5jDQKSBqne4h91CY4Q4AkgQkGNy/DifLeB6diEIPA50CwtNDD4Vr0D06eQOd59GJKPQw0MnvLA4Biyu0zqEDQGKEu+ZT5Qx0Igo9DHTyu6KGm5zo1Uro1EqZq2m5RAMDnYhCFwOd/K6o1gkAiIkIjfPnHp5Az2OgE1EIYqCT3xXWunvooTTcDvj20IUQMldDRNQ6DHTyu6KGQI8NsUCP1ysgSUC9zYnSWpvc5RARtQoDnfzOM+QeHWJD7mqlhC6ROgA8j05EoYeBTn7lcgnvpLhQ66EDQGqsAQDPoxNR6GGgk18VVJphdwESREjclOVc3eLcgc4eOhGFGgY6+dXxUvcqaxFKFxQhcFOWc3Vt6KFzcRkiCjUMdPKrY8W1AACjKrRucOKw25CTk4P6kjwAwP4TRdi0aRMsFovMlRERtQwDnfzqaIkn0J0yV9I6xXm5WLnlIHJOlgAATlbaMW/5OmRnZ8tcGRFRyzDQya+ONvTQTcrQ6qEDQHxKGi7tOwAAYHEpkNijt8wVERG1HAOd/OqXIffQ6qF76NQKaJTuX4t6J389iCh08BOL/KaizoayOveCLKF2Dt1DkiRE6lUAGOhEFFr4iUV+4zl/HqeXoAq9Ce5eUXr35XYMdCIKJfzEIr/xnD9PMobOHdaa4gn0OgY6EYUQfmKR33gCPdkY2m8rbw/dEdrHQUQdCz+xyG/CrYfOIXciCiX8xCK/+SXQQ/ttFXnWkDtvo0pEoSK0P3kpaNTbHCioNAMAkk2h/baK1KkhAXBBQpWVgU5EoSG0P3kpaBwvca/hHhuhgUkT2m8rpUKCUee+dK24PjQvvyOijie0P3kpaHiG23slGGWuxD8859EZ6EQUKhjo5BeeQO+ZyEAnIpIDA538wttDD5NAj2SgE1GIYaCTX3hWieuZECFzJf4R7Qn0OgY6EYUGBjpdNLvThROl7klx7KETEcmDgU4X7WRZPRwuAb1aiaQovdzl+IXnHHqlVcBsC807xxFRx8JAp4v2y4S4CCgUIXxXlrPoVAqoJfc16CfL62SuhojowhjodNGOlYTXJWuA+zaqEUp3zzy3hIFORMGPgU4X7ViYzXD3iGi4p3tuGQOdiIIfA50ummeGe9gFutId6J4Jf0REwYyBThfF5RLh20P3Bnq9zJUQEV0YA50uSkGlGXU2JzRKBbrFhcc16B5GDrkTUQhhoNNFOVBUDcDdO1crw+vt5JkUV1JjRa3VIXM1RETnF16fwNTuDhTVAAD6dDHJXIn/qRWASeO+DI/n0Yko2DHQ6aIcPO3uoV/aJVLmSgKjc4T7VySXgU5EQY6BThfl4OmGHnrn8A509tCJKNgx0KnN6m0OnGiYMBaOQ+7AWT10TowjoiCnkrsACl2Hz9RCCCBKK+Hgnizv9pycHDid4RHwndhDJ6IQwUCnNvPMcBd1lVieVendvm9TFhLTByJdprr8qXOEEgBwoozXohNRcGOgU5sdbAj0hEgd0vr1824vPH5IrpL8ztNDL6+zocps996FjYgo2PAcOrWZ55I1kyp8by+qV0lINGkBcNidiIIbA53axOkS2F9YBQCIVodvoANA93j3Cni8dI2IghkDndrk8Jka1Nuc0KkAY8Oa5+GqRxwDnYiCHwOd2mRPXiUAIC1KCUmSt5ZA8/TQT/DSNSIKYiEX6IcOHcK9996LjIwMREVFwWAwoE+fPpg+fTqKioqabH/bbbchJiYGERERGD16NL777rsm911VVYUpU6YgOTkZOp0Offv2xaJFiyCECPRhhZw9pyoBAD1jwn9eZY94AwCeQyei4BZyn8b5+fkoKirC7bffjpSUFKhUKuzbtw+LFy/Gp59+ij179iAxMREAcOzYMYwcORIqlQpPP/00oqKisGTJElx33XVYu3Ytxo0b592vzWbDNddcg927d2PKlCnIyMjA2rVr8fjjj+PMmTOYNWuWTEccnDw99F7RShytkbeWQOsR774tbG5pHYQQkMJ9SIKIQlLIBfrVV1+Nq6++utH2K664AhMmTMCyZcvw9NNPAwBmzJiByspK7Ny5E4MGDQIATJw4EX379sXkyZNx8OBB74fz0qVLkZWVhfnz52PKlCkAgEmTJuHOO+/Eq6++igcffBDdunVrn4MMcrVWBw4Xu1O8Z7QSR/NkLijAusW5e+jVFgcq6u2IjdDIXBERUWMhN+TeHE/YVlRUAADq6uqwatUqjB071hvmAGA0GvHII4/g8OHDyMr6ZXWzjz/+GAaDAZMmTfLZ79SpU2G327F8+fLAH0SIyMmvhBBAcrQe0bqweQs1S6dWIilKB4AT44goeIXsp7HFYkFpaSny8/PxzTff4LHHHgMA3HjjjQDcy49arVaMGDGi0fcOHz4cALyB7nK5sGvXLgwePBg6nc6n7bBhwyBJkk/4d3Se4fZBqdGy1tGeeOkaEQW7kA30pUuXIiEhAampqbjuuutQWVmJjz76CKNHjwYAFBYWAgCSk5Mbfa9nW0FBAQB3r95sNjfZVqvVIj4+3tu2OVarFdXV1T5f4cozIa4jBjonxhFRsAq5c+get912G/r06YPa2lrs3r0bq1atQmlpqffx+nr32ttarbbR93p64Z4252vrae9p05w5c+bgpZdeav2BhBghxC899K7RsOYXyltQO0ljD52IglzIBnpKSgpSUlIAuMP9zjvvxNChQ1FfX48ZM2bAYHBPZLJarY2+12KxAIC3zfnaetp72jRnxowZmD59uvff1dXVSE1NbeVRBb+iKguKa6xQKiT0S4rCzny5K2ofPRPcM92PFtfKXAkRUdNCdsj9XAMGDMDgwYPxz3/+EwCQlJQEAE0OlXu2eYbYY2JioNfrm2xrtVpRWlra5HD82bRaLSIjI32+wpGnd96nswl6jVLeYtpRr8RfLl1zOMN7ZTwiCk1hE+gAYDabUV5eDgDo378/tFottm7d2qjdtm3bAACZmZkAAIVCgSFDhmD37t2Neuk7duyAEMLbtqPriBPiAPeMfp1aAZvThbwKs9zlEBE1EnKBfvr06Sa3b9iwAfv37/fOYDcajbj55puxceNG7N2719uutrYWS5cuRXp6OoYNG+bdfvfdd6O+vh6LFy/22e+8efOgUqlw1113BeBoQk9HnBAHAAqF5B12P3ImzFfSIaKQFHLn0P/whz+gqKgIV111Fbp16waLxYKdO3fi008/hclkwj/+8Q9v2zlz5uDbb7/Ftddei2nTpiEyMhJLlixBQUEBVq9e7bPi16RJk/Dee+9h+vTpOHHiBDIyMrBmzRp8+eWXmDlzJrp37y7D0QYXh9OFfQXuO6wN7hotbzHtwGG3IScnx/vvKLh75kdLanGtXEURETUj5AL97rvvxgcffIAPP/wQJSUlkCQJ3bp1w2OPPYannnoKXbt29bbt1asXNm/ejGeeeQavvfYabDYbhgwZgq+//tpn2VcA0Gg0WL9+PWbOnIlPPvkEZWVl6NmzJxYsWIDJkye392EGpUNnamC2O2HSqZDWsBxqOCvOy8XKigocsEYDAE7k1QCaFE6MI6KgFHKBPmHCBEyYMKHF7TMyMvDVV1+1qG10dDQWLlyIhQsXtrW8sOY5fz4wJRoKRcdYzzw+JQ1p/dzzJwote1BYBRxjoBNREAq5c+gkn456/tzDpHLPbj9WUsc78BFR0GGgU4t11BnuHhFKF5SS++Y0p6stcpdDROSDgU4tUmOx42iJe6h5YAcNdIUEdIpw/8ocOcNhdyIKLiF3Dp3kkZNfBSGApCgdDu3NwiHP9pwcOJ0mWWtrT0lGBQprXThSXIsrLkmQuxwiIq+A9tDT0tKwatWqZh//73//i7S0tECWQH7iGW5PNTgxb/k6LM86heVZp/DZt1koLS2Tt7h2lGJyr47Ha9GJKNgEtId+4sQJ1NY2PzRZV1eHkydPBrIE8pPdDRPiesYoUZPW+5eZ38cPnee7wk+Kyf038MHTDHQiCi6ynkM/c+bMBW96QvI7+w5rvaI7zvrtTUk9q4fucnGmOxEFD7/30H/44Qds3LjR++8vvvgCR48ebdSuvLwcn376KQYNGuTvEsjPCirNKK21QqWQ0D1Kid1yFySjThEKaJQK1NmcKKg0IzWWf5ASUXDwe6Bv2LDBe19wSZLwxRdf4Isvvmiyba9evTB37lx/l0B+5r3DWhcTNMqOsaBMc1QKCWkJETh4ugaHTtcw0IkoaPg90KdOnYoHHngAQgikpaVh3rx5uPXWW33aSJIEo9GI2NhYfz89+ZHFYkF2djZW/+xew7yTyoKcnCMdalb72Txru8cqewEA/m/7PujKjyAzMxM6nU7m6oioo/N7oEdFRSEqKgqAu7eekZGBxMREfz8NtYPs7GzMW74Ox6KHAFChrKISn+3MQmL6QKTLXZwMPGu7a/p0AqDDlpM1yN31I6YCGDVqlMzVEVFHF9BJcWPGjGGYh7hOPXqj2qkGAPS/NANxSV0v8B3hLT4lDZf0dF9qaVEZ0SWtt8wVERG5BXxhmVOnTuGdd97BkSNHUFZW1mgNbEmS8O233wa6DGqjaocCTpeARqVAjEEtdzlBIS5CAwCoqLPBxVPoRBQkAhroa9euxe233w6bzQaj0Yi4uLhAPh1dJM85c4+cnByUW+MBAJ0jdT73j+/ITDoVNEoFbE4Xap1cPZmIgkNAA33GjBmIj4/Hv//9b2RmZgbyqcgPPOfMPcPI+zZloTb9WgDuQCc3SZIQZ9SgqMqCanvHvi6fiIJHQAP94MGDeOWVVxjmIaTLOavAnYY7yDtFaeUsK+gkGLXuQHcw0IkoOAR0vDAhIQEajSaQT0EB5IQCFrh/fuyh+0owuf/AqXJwyJ2IgkNAP41+97vf4fPPPw/kU1AA1SsiAABGrQoGDW/Md7b4hkCvtisbTfQkIpJDQD+lH3jgAWzYsAG33nor/ud//gc9evSAUtl4iLJr1459KVSwqle4p3Anmjjcfq74CA0kADahQKWVgU5E8gtooPfp0weSJEEIgf/+97/NtnM6nYEsg9rI00NnoDemUioQE6FBeZ0Np6r5/iUi+QU00F944QVe6hTC6pXuHnpCJAO9KQlGLcrrbDjJQCeiIBDQQJ81a1Ygd08BZHe6YJH0AIBEEyfENSXBpMWhMzU4WeWSuxQiInnvh07Bq6zWBkgSVHAgQsNLs5oSb3RfAcAeOhEFg4D20H/44YcWtbviiisCWQa1QXGNBQAQAStPmzTDc+namToXaq0OGLW8EoCI5BPQT6CxY8e2KAw4KS74FNdYAQAGWGWuJHgZNCroFC5YXAr8VFCFy9O4tDERySeggf7ee+812uZwOHDs2DEsW7YM3bt3x2OPPRbIEqiNShoCPYKBfl7RaidOWxXIyWegE5G8Ahro999/f7OPPfXUUxgyZEggn57ayCUEyutsAAA9A/283IGuxt78SrlLIaIOTrZJcTExMXjkkUfw17/+Va4SqBnVZjscLgFJuKCDXe5yglq0yn26aF9BlcyVEFFHJ+ss95iYGBw/flzOEqgJZQ29c53LDE6HOz8jzACAk2X1+Pq7H7Bp0yZYLBaZqyKijki2abkWiwUffvghOnfuLFcJ1Iyy2obhdpcZ4BVr51VRcBwqjR4OdQTe23EazoKfMBXAqFGj5C6NiDqYgAb6Qw891OT28vJybN26FSUlJfjb3/4WyBKoDcrq3OfN9cIscyWhIVLtQjkARVxXJGodcpdDRB1UQAN92bJlTW6PjY3FJZdcgrlz5+Kee+4JZAnUBr/00OvBtYcuLAIWlMOE4moL4vlyEZFMAhroLheXxAw1LgFU1P9yDh2IkLegEGCE+5z5mWorLo2WtxYi6rjYnyAfdU4FXAJQKyVohE3uckKCAVZIAGqtDlicnEZIRPJol0lx1dXVWL9+vXdGe1paGq655hqYTKb2eHpqhRqHexZcXIQWUrXMxYQIJQRiIzQoq7Oh0sFZhEQkj4AH+tKlS/Hkk0+itrYWQggAgCRJMBqNeOONN/Dwww8HugRqhRqHe9AmruHGI9QyiZFad6DbGehEJI+ABvqqVavw6KOPIi0tDS+//DL69u0LAPjpp5+wYMECPProo0hMTMTNN98cyDKoFTyBHmvQoF7mWkJJJ5MOB4pqUMVAJyKZBDTQ//rXvyIjIwPbt2+H0Wj0br/66qvx4IMPYvjw4Xj99dcZ6EGkzukOpOgINQO9FTpFuu8ZX2lXekeiiIjaU0Anxe3duxcPPPCAT5h7mEwm3H///di7d28gS6BWcAmBuoYeeoyBQ+6tEW/SQCEBNqFAqZmBTkTtL6CBfqGeCu+zHVwqLAJOSFBIQKROLXc5IUWlUCDe6L4/em4lbwdMRO0voIE+cOBALFu2DHV1dY0eq62txbJlyzBw4MBAlkCtcLrOvW5ApF4NpYJ/bLVWYqQ70I9XcbU4Imp/AT2H/tRTT+GOO+7AkCFD8Mc//hGXXnopgF8mxR09ehRffPFFIEugVjhd5+5Zcri9bTpH6rC/oBpHK9hDJ6L2F9BAv+2227Bw4UL8+c9/xpQpU7xD7EIIREREYOHChbj11lsDWQK1QlGtu4cebeBwe1t0idIDAI5XOmF3uqBWct0mImo/Ab8O/fHHH8c999yDdevWITc3F8AvC8tERUUF+umpFTxD7jF69tDbIsaghloSsLkkHCyqQf8Uvr+JqP20y0px0dHRGD9+fHs8FV0E9tAvjiRJiFY7UGJTY9epCgY6EbUrv48JOp1OPPPMM3j77bfP227RokV49tlnec1ukLA5XCgxN/TQeQ69zWLV7vPnu05VyFwJEXU0fg/0jz76CH/7298wdOjQ87YbNmwYXn/9dXzyySf+LoHaIK+iHi4BKCWBCC1XO2urGAY6EcnE74H+2WefYdy4cbjsssvO2+6yyy7Dddddx0APErkl7ksLI5Qurg9wEaLVDkgA8srNKK6xyF0OEXUgfg/0nTt3Yty4cS1qe+WVVyI7O9vfJVAbnCjzBDovuboYagWQYnL/Wu06WSlvMUTUofg90MvLy5GYmNiitgkJCSgvL/d3CdQGeeXuldsjlC6ZKwl9vWLcc013c9idiNqR3wPdZDKhtLS0RW3LysqaXOed2l9ehRkAYGCgX7T0GPccBJ5HJ6L25PdA79u3L7755psWtV23bp33lqokr1MNPXQG+sXr1RDoOflVsDn4ehJR+/B7oN9xxx1Yv349vvrqq/O2W7VqFdatW4c777zT3yVQK7lcwjvkzkC/eF0iFIg2qGF1uHCgqFrucoiog/B7oD/22GPo1asXJkyYgOeeew4nTpzwefzEiROYOXMmJkyYgEsuuQSPPfaYv0ugViqptcLqcEECoFdyXYCLJUkSBqdGAwB2nuSwOxG1D7+vFKfX67F69WrcdNNNmDNnDl577TVERkbCZDKhpqYG1dXVEEKgd+/e+O9//wudTufvEqgFLBaL9wqDw+Xuu4NFKh0QLs5y94fLusVgw6ES7DpVgYfQQ+5yiKgDCMjdI3r16oU9e/bgzTffxKhRo6BUKnH69GkolUqMHj0ab775Jnbt2oWePXsG4umpBbKzszFv+ToszzqFVftLAADWmnKUlpbJXFl4GNI1BgCw+1SlvIUQUYcRsLXcdTodpkyZgilTpgTqKegidUnrjbR+mSg+XgZUlyOCS7j7zcDUaCgkoKDSjDPVFnSK5EgUEQUW7+9IqDbbAQBaYZW5kvARoVWhd+dIAMAunkcnonbAQCdUWRoC3cVA96chXaMB8Hp0ImofDHRCtdk9KY499IvnsNuQk5ODTZs2wWh1z03YuP8ULBau605EgdUu90On4OVwulBrdQe6xmUFwFunXozivFysrKjAAWs0ah0KACYcLbdj6/YsXDlmtNzlEVEYYw+9g6u2uMNcrZSggkPmasJDfEoa0vplov/AwdCrlRCSAiereTkgEQUWA72Dq2k4fx6pU4M3TfUvSZLQOco9u/1IBQOdiAKLgd7BeXroJh3PvgRCFwY6EbUTBnoH5+mhm3S8CD0QPIF+tIKnM4gosBjoHVxNQw89kj30gOgUqYMEgXKLQEGlWe5yiCiMMdA7uGr20ANKrVQgUuUebs8+US5zNUQUzkIu0A8fPowXXngBw4cPR0JCAkwmEwYNGoS//OUvqKura9T+0KFDuO222xATE4OIiAiMHj0a3333XZP7rqqqwpQpU5CcnAydToe+ffti0aJFECJ870Dm7aHr2UMPlFiNJ9C5wAwRBU7IfYq/++67eOutt3DLLbfg3nvvhVqtxoYNGzBz5kx89tln2LZtG/R6PQDg2LFjGDlyJFQqFZ5++mlERUVhyZIluO6667B27VqMGzfOu1+bzYZrrrkGu3fvxpQpU5CRkYG1a9fi8ccfx5kzZzBr1iyZjjhwXALea9BNWvbQAyVW7UAutMhiD52IAijkAv03v/kNZsyYgaioKO+23//+90hPT8df/vIX/O///i+eeOIJAMCMGTNQWVmJnTt3YtCgQQCAiRMnom/fvpg8eTIOHjwISXJfrLV06VJkZWVh/vz53hvKTJo0CXfeeSdeffVVPPjgg+jWrVv7HmyAWVwShAAUEhChVcpdTtiKVbt76IfO1KDKbEeUnn88EZH/hdyQe2Zmpk+Ye9x1110AgP379wMA6urqsGrVKowdO9Yb5gBgNBrxyCOP4PDhw8jKyvJu//jjj2EwGDBp0iSf/U6dOhV2ux3Lly8PwNHIy+x0//hNOrX3DxvyP5XLimiVHUIAH63dhE2bNnEpWCLyu5AL9Obk5+cDADp16gQAyMnJgdVqxYgRIxq1HT58OAB4A93lcmHXrl0YPHgwdDrf21wOGzYMkiT5hH+4+CXQQ26gJqQU5+XCUVUMAPj3T+WYt3wdsrOzZa6KiMJNWHySO51OvPzyy1CpVLjnnnsAAIWFhQCA5OTkRu092woKCgAAFRUVMJvNTbbVarWIj4/3tm2O1WqF1frLzU2qq6vbdjDtyOxioLeXhAgVagHUq2PQJ6233OUQURgKix761KlTsXXrVsyePRu9e7s/LOvr6wG4A/lcnl64p8352nrae9o0Z86cOYiKivJ+paamtu1g2lG90z3MzkvWAs8I9zXop6stcIXvRRNEJKOQD/Tnn38eCxcuxKOPPooZM2Z4txsMBgDw6TV7eM5fetqcr62nvadNc2bMmIGqqirvV15eXusPpp15hty5qEzg6WCHTq2A0yVQZecERCLyv5AO9FmzZuGVV17Bgw8+iLffftvnsaSkJABocqjcs80zxB4TEwO9Xt9kW6vVitLS0iaH48+m1WoRGRnp8xXszp4UR4ElAUiKcl9OWc5AJ6IACNlAnzVrFl566SXcf//9WLp0aaNZ2v3794dWq8XWrVsbfe+2bdsAuGfMA4BCocCQIUOwe/fuRr30HTt2QAjhbRsuhBA8h97OkqLdgV5m5+tNRP4XkoE+e/ZsvPTSS/jd736Hd999FwpF48MwGo24+eabsXHjRuzdu9e7vba2FkuXLkV6ejqGDRvm3X733Xejvr4eixcv9tnPvHnzoFKpvJfFhYs6u4BTNJxD1zJg2kNStHvuRoVNGdarDxKRPELuk/ytt97Ciy++iK5du2LcuHH4+OOPfR7v1KkTrrnmGgDuiWrffvstrr32WkybNg2RkZFYsmQJCgoKsHr1ap9e/aRJk/Dee+9h+vTpOHHiBDIyMrBmzRp8+eWXmDlzJrp3796ehxlw5RZ3oOjVSqiUIfl3XchJNOmgVEiwuRQoqnPJXQ4RhZmQC3TP9eCnTp3C/fff3+jxMWPGeAO9V69e2Lx5M5555hm89tprsNlsGDJkCL7++mufZV8BQKPRYP369Zg5cyY++eQTlJWVoWfPnliwYAEmT54c+ANrZ2Vmd6AYOdzebpQKCZ0jdSioNONwOe+PTkT+FXKf5suWLcOyZcta3D4jIwNfffVVi9pGR0dj4cKFWLhwYRurCx3lFnegc7i9fSVFuwP9UDnvj05E/sWx1g6q3Owecjcy0NtVcsPEuINlDHQi8i8Gegfl6aFzyL19dYnSQ4JAiVkgv+L8ixUREbUGA72D8pxD55B7+9KoFIhuuPva9uO8nSoR+Q8DvYPyzHJnD739xandw+3bjpfJXAkRhRMGegckhEC5Z5Y7e+jtLk7j7qFvy2WgE5H/MNA7oCqzHbaGy6AZ6O0vVu2AQgLyys0oqDTLXQ4RhQkGegdUWOm+OY1GcnFRGRmoFECPKPd67ts57E5EfsJP8w7odLW7V6hXcvlRuWTEuQOd59GJyF8Y6B2Qp4euU3L5UblkxLlPdWzjTHci8hMGegd0usod6HoFA10u6TEqKCTgVHk9CnkenYj8gIHeARVWuQNExyF32RjUEvonRwEAtnO2OxH5AQO9A2IPPTgMT4sDAGw7xmF3Irp4DPQOqKiK59CDweVpsQDYQyci/2CgdzBCCBQ1DLmzhy6vzO6xUEjAibJ678+EiKituKpIB1NZb4fF7g5ynkOXV6ROjX7JUcjJr8KPB08jyV7QqE1mZiZ0Op0M1RFRqGGgdzCe4fZIjQSlJHMxhJE945GTX4X/ZB2B+dBmdEnr7X2s6PghTAUwatQo2eojotDBQO9gPEO7sXqmeTAY2TMOb39/DD+XOTCiR2+k9cuUuyQiClE8h97BFDb00ON0/NEHg8zuMVArJZSZBeqd/JkQUdvxE6SDOe3poTPQg4JBo8Lg1BgAQKlNKXM1RBTK+KnewRQ1LPsaq+ePPliM7OW+Hr3UxjNgRNR2/FTvICwWCzZt2oSDp04DAGpL8uF0OmWuigD3xDjAHehC8MoDImobBnoHkZ2djXnL1+FkpQ0AsHPPfpSWckGTYDAoNRpaJWATCpTV2eQuh4hCFAO9A+ncozcswj2sGx8XI3M15KFRKXBJrPvnkldeL3M1RBSqGOgdiE1IcLrcQ7pqwZ5gMOnbcDvV/AquGEdEbcNA70AsTve153q1EgrwXG0wuTTePcM9v8IMl4s/GyJqPQZ6B2J2uX/cJh1nUweb7lFKqCUBm9OF4hqr3OUQUQhioHcgloaFS4xaBnqwUUgS4jQOAEBeBc+jE1HrMdA7EHPDkDt76MEpviHQeR6diNqCgd6BeIbc2UMPTp5AL6w0w+HirW2JqHUY6B2Id8idPfSgZFS6YNAo4XAJnG5Yc5+IqKUY6B2I2dUw5K5Vy1wJNUWSgJQYPQAgj8PuRNRKDPQOwiWEt4fOc+jBKzXWAIALzBBR6/GTvYOosQm44O6hR/AcuqwcdhtycnJ8tuXk5MDpNCE1xh3oZ6otcGjkqI6IQhU/2TuIMrN7klWERgmlQpK5mo6tOC8XKysqcMAa7d22b1MWEtMHIn2gGpE6FaotDpTb+etJRC3HT4wOoszsXn3MpOP582AQn5KGtH6Z3n8XHj/k/f+UGAN+Lqrm7VSJqFV4Dr2DKLe4e+ic4R78UmPdE+MY6ETUGgz0DsIz5G7i+fOg5zmPXuVQoNbG69GJqGUY6B1EucU95M4eevCL0KoQa9AAkHCgzCl3OUQUIhjoHQR76KHFM+z+c6lD5kqIKFQw0DuIck+gc1JcSEhpGHb/qYyBTkQtw0DvAJwugQorh9xDiXvFOIHCWhfOVHMZWCK6MAZ6B1BcY4FLABIEDBql3OVQC+jUSkSp3OfPtx4rk7kaIgoFDPQOoLDSvS64TiGgkLioTKiI17gDfcuxUpkrIaJQwEDvAAor3UO2eiUvgQolntupbmEPnYhagIHeARRVuXvoDPTQEqtxQCkB+RVmnCrjzVqI6PwY6B2Ap4euUwiZK6HWUElAzxj3nAcOuxPRhTDQOwD20ENX3zj3VQkcdieiC2GgdwBFVQ3n0BUM9FDisNugqzoJAPj+YBF+/PFHWCy8hI2ImsZA7wA4KS40FeflYtuuHCggUGUVeG3FZmRnZ8tdFhEFKQZ6mLM6nCittQIAdEqeQw81CSk9kBIbAQCQOvWSuRoiCmYM9DB3psod5moFoJEY6KEoNca9rnsJb6dKROfBQA9zhQ0T4uL0CnBNmdCUEute173MpoJL8I8yImoaAz3MeWa4x+qY5qEq0aiFRqWAQ0g4UcXbqRJR0xjoYc4zIS5Ozx91qFIoJKREu4fdfyploBNR0/gpH+a8PXQGekhLbRh2/5m3UyWiZvBTPswVeXroOv6oQ1lKw8S4Q2UOWOzspRNRY/yUD3OFVZ4hd55DD2VxERroFC7YXMD23HK5yyGiIMRAD3O/TIrjjzqUSZKERK17uH3DwWKZqyGiYMRP+TBWb3Ogst4OgJPiwkGixv2z/O5gMQQvXyOic/BTPox5ZrgbtSoY1BxyD3UJGgdUCuBUeT2OldTJXQ4RBRkGehgrrHQPt3smVFFoUymAPrHu1eI47E5E52Kgh7H8CnegJ0cz0MPFoER3oH978IzMlRBRsGGgh7H8inoA7KGHkyGd1QCAHbnlKGu46Q4REcBAD2ueHnpKjEHmSshfEg0K9EuOhEsA3/zMXjoR/YKBHsbYQw9PN/TrAgBYu/+0zJUQUTBhoIcx9tDD0w39OgMAthwtRVXDZYlERCEZ6HPmzMH48eORlpYGSZLQvXv387bfvn07xo0bB5PJhMjISFx//fXYs2dPk20LCwsxceJEJCQkQK/XIzMzEytWrPD/QQSYxe5EcY37HCt76OElLcGIPp1NcLgE1h3gsDsRuYVkoD/77LP47rvv0LNnT8TExJy37bZt2zBmzBjk5uZi9uzZeOmll3DkyBGMHj0a+/bt82lbXl6OUaNG4YsvvsAf/vAHvPnmmzAajZgwYQLee++9QB6S33kuWYvQKBFtUMtcDfmbZ9h91d5CmSshomChkruAtjh27BjS0tIAAP369UNtbW2zbf/4xz9Co9Hghx9+QHJyMgBgwoQJyMjIwJNPPolvvvnG2/a1115Dbm4uVq1ahZtvvhkA8PDDD2PEiBH405/+hPHjx8NoNAbwyPzn7OF2SeKiMuHmtsFJmLv+MDYdKcGZags6RerkLomIZBaSPXRPmF/I0aNHkZWVhfHjx3vDHACSk5Mxfvx4rF+/HqdP/zKx6OOPP0bPnj29YQ4ASqUSU6ZMQXl5OdasWeO/gwiwXwKdw+3hqFtcBDK7xcAlgK/2FMhdDhEFgZAM9JbKysoCAIwYMaLRY8OHD4cQAjt37gQAFBUVoaCgAMOHD2+y7dn7C3YWiwVb9x0GACgsldi0aRNycnLgdPK2m+HkjiEpAIDPdxZwbXciCu9ALyx0n188u3fu4dlWUFDQ6rZNsVqtqK6u9vmSS3Z2NjYfdB9PQWkVlmedwmffZqG0tEy2msj/ft2/CzQqBQ6dqcFPhfK934goOIR1oNfXu6/D1mq1jR7T6XQ+bVrTtilz5sxBVFSU9ys1NfXiir9IQh8FAOjeowfS+mUiLqmrrPWQ/0UZ1LgmoxMAYHlWnszVEJHcwjrQDQb39ddWa+MlMi0Wi0+b1rRtyowZM1BVVeX9ysuT9wO23un+0UbqOMM9nN05yH1N+orsk1i/8Uds2rTJ+34loo4lJGe5t1RSUhKApofKPds8w+mtadsUrVbbZO9eDlangNXVEOh6Bno4U5Ufg9ZlgcWhw5ubz0B7eh+mAhg1apTcpRFROwvrQB86dCgAYOvWrXjkkUd8Htu2bRskScJll10GAOjSpQuSk5Oxbdu2RvvxbMvMzAxwxf5RXOcCAGhUCuhUYT0I06E47Dbk5OT4bNu/bx96mBJwsA4oElEY3qO3TNURkdzC+tO+V69e3pXePJPeAPcEuBUrVuCqq65C586dvdvvvvtuHDt2DP/5z3+825xOJxYsWIDo6GjceOON7Vp/WxXXuwM9Wq/mNehhpDgvFyu3HMTyrFPer8++zYKhrghKhYTSWhsq7Eq5yyQimYRkD/3DDz/EyZMnAQAlJSWw2Wx45ZVXAADdunXD7373O2/bN998E1deeSVGjx6NKVOmAAAWLFgAl8uFf/zjHz77feaZZ7BixQrcc889mD59OpKTk/HJJ58gKysLS5cuhclkaqcjvDhnGnroURxuDzvxKWlI6/fLSFHh8UNQwoXenUz4uagax2rVjXrxgHt0yTO5k4jCU0gG+v/+7//i+++/99n2/PPPAwDGjBnjE+gjR47Exo0bMXPmTMycOROSJGHkyJFYsWIFBg4c6LOPuLg4bN68Gc888wzeeust1NbW4tJLL8Wnn36Ku+66K/AH5idnPD10LvnaYQzuGo2fi6px2qbBJ9tP4IA12vtY0fFDPK9O1AGEZKBv3LixVe1HjBiBb7/9tkVtk5OT8eGHH7ahquDhGXJnD73jiDdqkRqrR165GfYuA3x68UTUMYT1OfSOikPuHdPgVPeNikoQCZvDJXM1RNTeGOhhxu50odTsmRSnkbkaak/d4wzQusxwQomfi7hyHFFHw0APMwUVZrgEoIBAhJYznjsSSZKQaHffH31PXiVcXN+dqENhoIeZk+Xu5WkjlC5estYBxTlKoYQTVWY7ckvr5C6HiNoRAz3MnCpzf4gbVDyH2hEp4UIiqgAAe05VylsMEbUrBnqYOVH2Sw+dOqZEVEGSgPxKM0pqGt+bgIjCEwM9zJxkoHd4WjiQnmgEAOw+VSFzNUTUXhjoYSa3tBYAYGCgd2ieS9gOnamBxcm5FEQdAQM9jNidLm8P3ahyylwNyalzlA5donRwCeCEmZcvEnUEDPQwcqq8Hg6XgFYJ6BW8ZKmjG5waDQA4Wa+Bzcn3A1G4Y6CHkWPF7uH2zhEK8Io16plghEmngk0osKXALnc5RBRgDPQwcqzEfclaspELyhCgUEgYmBINAPg61wrBhWaIwhoDPYwcK3H30LsY+WMlt35JkVBKAvk1Lmw6Wip3OUQUQPzkDyOeQE9iD50aaNVKpOpsAIB3N+XKXA0RBRIDPUwIIbzn0JPYQ6ez9DDYIAHYcKgERxveI0QUfvjJHyZKa22otjggSUCnCP5Y6RdGlQuDOqkAAMu2sJdOFK74yR8mPMPtqTEGaJSc4k6+buihBQCs3JmPynqbzNUQUSAw0MOEJ9B7JkTIXAkFo4w4Jfp0NsFid2Hlzny5yyGiAGCghwnPudG0BKPMlVCwcdht2LdvH0YmOAAAizccQn29WeaqiMjfGOhh4tDpGgBA784mmSuhYFOcl4uVWw6i6MxpqCSB4noXln29Te6yiMjPGOhhQAiBgw2BntE5UuZqKBjFp6Thkv6Z6JfsvmnL+pM8j04UbhjoYaCk1oryOhsUEpDeiUPu1Lz+KVEAgN1nHMivqJe5GiLyJwZ6GDhY5O6dd4+PgE7NRWWoebERGsRrHBAAPt5+Su5yiMiPGOhh4ODpagAcbqeW6a63AgCWZ+XB6uBtdonCBQM9DHh66H04IY5aoJPWgRithLI6G77ef1rucojITxjoYeBAw4S4Pl3YQ6cLU0jAVd00AIAPt56UuRoi8hcGeoizO104esYd6LX5h7Bp0ybk5OTA6eRQKjXNYbehU90xKCUg+2QF/rXme2zatAkWi0Xu0ojoIqjkLoAuzvGSOthdAgrhxLf78yFJwL5NWUhMH4h0uYujoFScl4tDFRXo1DMRhVYN3skqQ2LpXkwFMGrUKLnLI6I2Yg89xB0ock+Ii9II9OyfibR+mYhL6ipzVRTs4lPSMKJvDwBAoVWH+O69Za6IiC4WAz3E5eRXAQCiVBxip9ZJjtYjNkIDh0sgz6KRuxwiukgM9BCXk18JAIhWM9CpdSRJwsCGhWaO12nhdAmZKyKii8FAD2EOpwv7C909dAY6tUVGl0jo1UqYXQpsK7TLXQ4RXQQGegg7fKYWFrsLehVgVLrkLodCkFqpwKCu0QCA/xyzwsVeOlHIYqCHMM9we48oJSRJ3loodA1MjoJKEsivcWH9gTNyl0NEbcRAD2F7GwI9LZrrt1PbadVK73Kwf/u/Q3A4OdpDFIoY6CFsb577/HlaNJcToIvTK8IKo1rCkeJarNyZL3c5RNQGDPQQZbE7cahhhTj20OliqRXAbelaAMAb6w6jzuqQuSIiai0GeojKya+C0yUQb9QiTscT6HTxru6mQddYA4prrHht7UG5yyGiVmKgh6gduWUAgGE9YiBxRhz5gVop4dXb+wMAPtx2EpuPlspcERG1BgM9RG3PLQcADOseK3MlFE5GpcfjvuHupYP/tGIvimt4wxaiUMFAD0F2pws7T1YAAC5Pi5O5Ggo3M27IQFp8BIqqLHh4WTbPpxOFCAZ6CPqpsBr1Niei9Gr07mSSuxwKMxFaFd57cChiIzTYV1CFR97PRlU9V5EjCna83ikEec6fD+0eC4WC58/J/7rFRWDp/Zm4b+l2bD1ehtsXbcbc3/RDTZ7vZLnMzEzodDqZqiSiszHQQ9D24+7z55f34PlzCpwhXWOw8vcj8cj7WTheUofb396OeNtpDOhigF4pUHT8UKN7qFssFmRnZ/vsh6FP1D4Y6CHG4XRhx4mGCXEMdAqQs4P52aFqvLfPgZ1nHChWd8a3ZUD3uAgYO2tQUu+7qlx2djbmLV+HLmnu+6s3FfpEFBgM9BCz41gxaiwORKglVObuw6aTEnJycuB08lw6tZ3DbkNOTo733zk5OVj3UxFSemUAAJIA5BfkoD75MtQIA3JL6wDoMe27GizYtxFXpCfgikviAadAl7TeSOuXKctxEHVkDPQQ8+kP+wEAUQorVu6sBADs25SFxPSBSJexLgptxXm5WFlRgQPWaAC/vKfODubC44egRAEuufxqHCupw6G8M6h0qHC8pA7HS+qwbMsJ6FVAvEoPU40VCSatTEdD1DEx0EPM3mL3bON+PVOR1iUSgPuDluhixaekeQP8fO+pOKMWcUYt4uuO46ZBqRAJvfDDkVJsOFiMoioL8hwafLzjFLrFGdCDF9IQtRsGeggprrbgZLX7nGW3OIPM1VBH57DbcOzAPgxQS7gxAbg+XoO1WSewsSoGp61anCyrxykYEfGzGUOHO6FV8Z4DRIHEQA8hGw+XAACiVQ4YNPzRkbzOHaYHgH2bNyE1fSCuHTEOm46W4lhJHVYft+H4W1uw4O5B6JXIuR5EgcLxsBCy4WAxACBRy5W7KDh4huk9X3FJ7mVjow0a3DQgCUOj6mDSSDhQVI1bFm7G6pwimSsmCl8M9BBRb3Ng4yF3D70TA51CRGedA69eYcSItDjU25yY/PEuvLrmABxO14W/mYhahYEeItYfKIbZ7kSiQYEolVPucohaxGG3Ie/wfvy+jx2/TtMAABb/cBz3LNmK0lqrzNURhRcGeoj4z95CAMCIJDV4t1QKFcV5uVi55SBW7syDoq4El0XVQSGc2HGiEjfN34RdpyrkLpEobDDQQ0CV2Y7vG4bbhyepZa6GqHXOPs8+KnMQfhVdhViVHaerLRi/aAte+te3MJvNcpdJFPIY6CHgm59Ow+Z04ZJORqRG8tIfCm31hUcRefJ7dNba4RTAe/ssePR/f4TFzlNJRBeDgR4ClmflAQBuGZgkcyVE/pGY3A0TfpWBX/WKAyDwY74ddy7aglNl9XKXRhSyGOhBbnduCbJPVkApAd1cRQ3rtrMnQ6FPkiRkdovF8Gj3pW0/FVbjunk/4O3vj8HOWfBErcZAD3JvrtkNAOikseGbffn47NsslJaWyVwVkf8kaJ14ebQRl/eIhdnuxGtrD+LmBZuw82S53KURhRQGehCrqrdjS4F77faRfdN8Fu4gChcOuw2FR/bjiUsdeHSgHka1hIOna3Dnoq34w0c7cfB0tdwlEoUErh8axFbszIPNBZhUTiRF6+Quhyggzl1CdmS0hOwCM8o1iVi7/zTW7j+NYV1UmHHLEAzukdCqfZ99X/ezZWZmQqfj7xSFFwZ6EBtzSQK27DuG8spKSLz4nMLY2Xd6A4CyE/+CofwInN2GociqwY4iB25/ZwcGpUbj9sHJGHdpJyRH6y+43+zsbMxbvg5d0np7txUdP4SpAEaNGhWAIyGSDwM9iKV3MuGhAXoszyqRuxSidpfUuRNGjOqL0lorNuw5ijM2DfbkVWJPXiVeXPUTUqJ1SNY70TlCgRidBJ3K/dU/4xKYDHqolRJOVjlh7JqB2LR+UCsV0Kl52SeFLwY6EQW1eKMWAyOqkBZvQUVUOrJP23Gk3In8SgvyK5v4huw952wwAVtPev+lkkz48etSdN7yNeL1CsQZFBh2aRoGpMYhvZMROrWyyaF6DtNTsGOgE1HQK87LxaGKCvS9LBK91UBaArB7915oUjIQndwL9TYH7E6BmppqGHUaqLV62Jwu1NVbUGtzQlKoYHe6IAA4hAKVDgUqy50A3JeAfnXkAABAIQFJRgXiRBVqigvQp3sXKCUO01NoYKATUUg49zx7yYlDUKISI/okercd31+Eu4bGeYN306ZNWJ51Cmn9MuESAlaHC5u//jdchhh06zsU1RY7Dh/8GXVOFRz6GNiFAvk1LuTDBBj6IK9MQtdYA6KTVLA5RbsfM1FrMNDP4XK58Oabb+Kdd97BiRMnkJCQgAkTJmD27NmIiIiQuzwiOg+H3YacnBzvv90LMZkAAApJgl6thE5YoIQFvTu7t1tzTkIZEYPhV16OWqsDJTVWbNu5B1XqWNicahwrqQMQgSfWVePWsn24c0gyLusW06KJqhy6p/bEQD/HtGnTMH/+fNx+++148sknceDAAcyfPx+7d+/G+vXroVDw0n2iYHXuJXD7NmUhMX0g0lvwvZIkwaRTw6RTo9B2Egp1NXoNuwpHi2ux/1QZ6h0KfLLjFD7ZcQpdYw24sX8XjOgZh35JkYiN0MBqtTYK75ycHKz7qQgpvTIAAIXHD+F/hMAVo0f7+ciJGOg+fvrpJyxYsAB33HEHPv/8c+/2Hj164I9//CM+/fRT3HPPPTJWSEQXcvbQfOHxQ23ejwQg0aRDokmHuKrDiFI7UahJRVaRHafK6/H298fw9vfHAAAmrQpahRO1dfVQqDVwCQkCgN3eGTClIKdEBZdLQEQMw/2rqxD33RokGBRIMCjQyaDAiP7pSO8cjW7xBkTqLnxHRV5fT01hoJ/lk08+gRACU6dO9dk+adIkPPPMM/joo48Y6EQdUEl+Lg5XVKDvZXpcGQecsahxsqwOiqhElNQL1FgdqAEAhd4zz85NqXX/1/XL+XcBCaVmgVKzEwfK3I1XHNrvfTw2QoOUGD2MWhUitCpEaJRQKhQQQsApBFwCKC4uweG8M9BGmCDcO4W9vhrDfjJjQO8eSDBqkRJjQGqsHl2i9FAquI5FR8BAP0tWVhYUCgWGDRvms12n02HQoEHIysqSqTIiktvZPf9LACTvz8ZdQyORefkI5FfUY/P2nfi/n88gpWcfKCQJCknCno3/hcoQictGjoVCISHr/z6HIiIa6ZddgWqLHdVmB07lF0CSgBroUWUVKK+zobzOduGCVLGA9ex/x+HrXBu+zvUdlVBKQJxegcSGEYHB6alI6xSJlBgDYgxqROrUMOlUUCmbP53odAmY7U7U2xww25woq65H9t6fYHYI1NkFzA6BarMDZoeAVShgdgg4nS6oFIBGpYRKIUGvAgxqCb3TuiHGqIdJp3J/adXe/zfqVNCq2rZWgBACDpeA0yVgd7pQW2/Bzl274RSA0wU4hECfjL5QqtVwuQCVUoJaKUGtVHi/NEpFw3YFVAr3KEu92Yzs7J0QgPtLuP8+G3rZEMREBte8Kgb6WQoLCxEfHw+tVtvoseTkZGzZsgU2mw0ajabR41arFVbrL79dVVVVAIDq6otbh7qurg6nDubAZnHfVvLMyaNQ6E04mG30tjl3W7C1kfv5Q7GN3M8fim3a+/lPnziK7a4i1NXVAQBKD+9H3fESVLlqvG2qT+yHQm9CYZT7M6X85EEo9CZUR7lXuYsEIO3ZgIryUqT0uASJkhIn8/IAQyxiu6TCJSnhklSoKCmCpFQhOjYeEgTKzxQgMrYTOqV0gwQBSQLyc4+hzu6CIaYT7Aqt98ulUOK0BThd4a7p2yOVaIpaAUiS+1SDQoJ30p/dKWD3583vcirO+7BaAehUEtQNf194xjbEWf9wwR3STiHgdLkDtkUXIfxfcdtqbsLlWd/gf39/9UXvx2Qy+W0lUEkIwWsxGvTs2RN2ux2nTp1q9NjEiRPx4YcfoqKiAtHR0Y0enzVrFl566aV2qJKIiMJFVVUVIiMj/bIv9tDPYjAYUFzc9F9wFovF26YpM2bMwPTp073/drlcKC8vR1xcXMisw15dXY3U1FTk5eX57Q0WrvhatQ5fr9bh69U6ofx6mUwmv+2LgX6WpKQk/Pzzz7BarY2G3QsKChAfH9/kcDsAaLXaRt/TVE8+FERGRobcL4Vc+Fq1Dl+v1uHr1Tod/fXiRdVnGTp0KFwuF3bs2OGz3WKxYM+ePcjMzGzmO4mIiOTFQD/LXXfdBUmSMG/ePJ/tS5YsQX19Pe699155CiMiIroADrmfpX///pg8eTIWLlyIO+64AzfeeKN3pbgxY8aE/TXoWq0WL774YpOz/MkXX6vW4evVOny9WoevlxtnuZ/D6XRi3rx5WLx4MU6cOIH4+HjcddddmD17NoxG44V3QEREJAMGOhERURjgOXQiIqIwwEAnIiIKAwx0IiKiMMBAD0OSJDX51dSkvkOHDuG2225DTEwMIiIiMHr0aHz33XdN7reqqgpTpkxBcnIydDod+vbti0WLFiFUpmHMmTMH48ePR1paGiRJQvfu3c/bfvv27Rg3bhxMJhMiIyNx/fXXY8+ePU22LSwsxMSJE5GQkAC9Xo/MzEysWLGiybZWqxUvvPACevToAa1Wi549e+KVV16B3W6/yCP0r9a8Xg888ECz77uVK1c2at/a1+CDDz7A4MGDodfr0alTJzzyyCMoKSnx16FetMOHD+OFF17A8OHDkZCQAJPJhEGDBuEvf/mLd633swXq987lcmHu3Lno06cPdDodUlNT8eSTTzZZg1xa81rNmjWr2ffV3//+90b7bu3xr1mzBiNHjkRERARiY2Mxfvx45ObmBuS424WgsANAjB49Wnz44Yc+X59++qlPu6NHj4rY2FiRmJgoXn31VfHWW2+JQYMGCZVKJdatW+fT1mq1iqFDhwqVSiWmTZsmFi9eLG6//XYBQLz44ovteHRtB0DExsaKcePGiZiYGNGtW7dm227dulVotVqRlpYm3njjDfHGG2+ItLQ0YTQaRU5Ojk/bsrIy0aNHDxERESGef/558c4774gxY8YIAOLdd99ttO9bb71VABAPPfSQWLJkiXjooYcEAHH//ff7+YgvTmter/vvv18AaPSe+/DDD8XJkycbtW/Na/DGG28IAGLMmDHinXfeEc8//7yIiIgQl156qaitrfXjEbfdn//8Z2E0GsU999wj5s+fLxYtWiQmTJggAIgBAwaI+vp6b9tA/t798Y9/FADE7bffLhYvXiymTZsmVCqVuPLKK4XT6Qz0y9AirXmtXnzxRQFAzJ07t9H76ueff26079Yc/+effy4kSRKDBg0Sb731lnj11VdFYmKi6NKliygoKAj46xAIDPQw1NJwGD9+vFAoFGL37t3ebTU1NaJr167ikksuES6Xy7v9rbfeEgDE/PnzffZxxx13CLVaLU6cOOGv8gPm2LFj3v/v27fveQNq6NChwmQyifz8fO+2/Px8YTKZxDXXXOPT9qmnnhIAxKpVq7zbHA6HGDp0qIiNjRU1NTXe7atXrxYAxPTp0332MX36dAFAbN68ua2H53eteb08gd4SrXkNSkpKhMFgEEOHDhUOh8O7fdWqVQKA+Mtf/tLCowmsrKwsUVlZ2Wj7c889JwCIBQsWeLcF6vdu//79QpIkcccdd/i0nT9/vgAg/vWvf13sYfpFa14rT6Dn5uZecL+tOX6bzSaSkpJE165dfX4/d+/eLRQKhZg0aVIbjkx+DPQw5Al0q9Xq82Y9W21trdBqteKqq65q9Njs2bMFALF9+3bvtl/96lfCYDAIs9ns0/aHH34QAMTrr7/u34MIsPMF1JEjR7y9x3M99NBDQpIkUVRU5N2WnJwsevbs2ajtBx98IACI5cuXe7fde++9AoA4deqUT9tTp04JAOIPf/hDG48osFoa6C6XS1RVVZ23N9ia12DJkiUCgPjggw8a7SctLU1kZGS0/mDaUU5OjgAgHnvsMSFEYH/vPIH4ww8/+LQ1m83CYDCIG264wZ+H5nfnvlZC+AZ6VVWVsNvtzX5/a45/3bp1AoCYPXt2o/1cddVVIjIyUthsNj8cVfviOfQwtXLlShgMBphMJiQmJmLKlCnee7QDQE5ODqxWK0aMGNHoe4cPHw4AyMrKAuA+L7Vr1y4MHjwYOp3Op+2wYcMgSZK3bTjwHEtzr40QAjt37gQAFBUVoaCgwPuandv27P15/j85ORmpqak+bVNTU5GUlBTyr2NUVBSioqKg1+txzTXXYPv27Y3atOY1uNDP4uDBg6itrfXzUfhPfn4+AKBTp04AAvt7l5WVBYVCgWHDhvm01el0GDRoUNC/t859rc42YMAAREVFQafTYeTIkVi7dm2jNq05/gu9r6qrq3H48OGLOh45MNDD0LBhwzBr1iysXLkS77//Pq666iosXLgQo0eP9n74FRYWAgCSk5Mbfb9nW0FBAQCgoqICZrO5ybZarRbx8fHetuGgNa9Na9p62jfV1tM+VF/Hzp07Y9q0aVi0aBG+/PJLPPvss8jOzsbo0aOxfv16n7ateQ0u9PoKIbxtgo3T6cTLL78MlUrlXTY6kL93hYWFiI+Pb3L50+TkZJSWlsJms138gQVAU68V4L5j5aOPPooFCxbgq6++wpw5c3Dy5En8+te/xrJly3z20Zrjb+3vbajgWu5h6Nxe0cSJEzFgwAA899xzePPNN/Hcc8+hvr4eAJp883t6A54252vrae9pEw789dqc29bz/+H4Or722ms+/77ttttwzz33YNCgQfjDH/6AI0eOeB9rzWvQ2tc3mEydOhVbt27Fq6++it69ewPw33vL07417y1Pm+ZuAS2npl4rz/ZzPfTQQ+jXrx+mTZuG3/zmN96rd1pz/KH8vjof9tA7iKeeegoajQarV68GABgMBgDuy4fOZbFYfNqcr62nvadNOPDXa3NuW8//d5TXMT09HRMmTMDRo0d9hi9b8xq09vUNFs8//zwWLlyIRx99FDNmzPBuD+Tv3YVe17P3GUyae62aExcXh9///veorKzEli1bvNtbc/yh+r66EAZ6B6FWq5GUlITS0lIAQFJSEoCmh5U82zxDTzExMdDr9U22tVqtKC0tbXYINRS15rVpTVtP++aG8goKCsLqdQTgvXbd874DWvcaXOj1lSTJ2yZYzJo1C6+88goefPBBvP322z6PBfL3zvP73VRIFRQUID4+Puh65+d7rc6nufdVS4+/tb+3oYKB3kFYLBbk5+d7J5z0798fWq0WW7dubdR227ZtAIDMzEwAgEKhwJAhQ7B79+5Gvyw7duyAEMLbNhwMHToUAJp9bSRJwmWXXQYA6NKlC5KTk72v2bltAfi8NkOHDkVBQQHy8vJ82ubl5aGwsDCsXkcA3qH2syc6teY1uNDPonfv3kF1F8RZs2bhpZdewv3334+lS5dCkiSfxwP5ezd06FC4XC7s2LHDp63FYsGePXuC7r11odfqfJp7X7X0+C/0voqMjMQll1zSquMJCvJOsid/Ky0tbXL7n/70p0aXufzmN78RCoVC7Nmzx7vNcz1senq6z/WwCxcubPZ6WJVK1aLrRIPJhS7DyszMFCaTyWeBiYKCAmEymcTVV1/t09bz2jZ1HXp0dLSorq72bv/vf/973muwf/zxx4s8ssA43+tVW1vb6LIqIYTYtWuX0Gg0jS4ta81rUFxcLPR6vRg2bFiT16G//PLLF3FU/vXSSy8JAOJ3v/vdeS/bC9TvXU5Oznmvw/7www8v8gj9pyWvld1ub/J69VOnTonY2FgRFxfnswhNa47fZrOJLl26NLoOfc+ePUKhUIiHH374Yg9RFgz0MDN16lQxfPhwMWPGDLFo0SLxt7/9TVx55ZUCgLj88st9fgGOHDkiYmJiRGJiopgzZ453xSqlUim+/vprn/1arVZx2WWXCZVKJaZPny6WLFniXbFq5syZ7X2YbfLBBx+Il19+Wbz88ssiMTFRREdHe/997nXOmzdvFhqNRqSlpYm5c+eKuXPnirS0NBEREeHzQSyE+4+obt26CaPRKF544QXxzjvviLFjxwoAYunSpY3quOmmmwQA8fDDD4ulS5eKhx9+WAAQ9913X0CPv7Va+nrt3r1bdO7cWfz+978X//jHP8Tbb78t/vCHPwitViv0en2Tf6S05jX4+9//LgCIsWPHinfeeUe88MILIiIiQvTp06fZdRbamyd4u3btKt5///1Gq5p988033raB/L174oknvCulLVmyREyfPl2oVCoxZsyYoFkprqWvVUVFhYiOjhYPPPCAeP3118XixYvFk08+KaKiooRSqRSfffZZo3235vg/++wzn5Xi5syZIxITE0WnTp18FpQKJQz0MPPvf/9bXHvttSIpKUlotVphMBjEwIEDxV/+8pcme1E///yzuOWWW0RUVJTQ6/XiV7/6VaPlJz0qKirE5MmTRZcuXbw9rwULFvj0KIKZZznWpr7GjBnTqP2WLVvEVVddJSIiIoTRaBTXXnut2LlzZ5P7zs/PF/fdd5+Ii4sTWq1WDB48uNFSux5ms1k899xzolu3bkKj0YgePXqI2bNnB91CFi19vYqKisR9990nevfuLUwmk1CpVCI1NVVMnDhRHDhwoMl9t/Y1eO+998SAAQOEVqsVCQkJ4sEHHxRnzpwJxGG3iWdhnZa+vwL1e+dwOMTf//53cckllwiNRiOSkpLEtGnTguYPHyFa/lpZLBbx8MMPi379+ono6GihUqlE586dxZ133umz+M7ZWnv8//nPf8Tll18u9Hq9iI6OFnfeeac4evRooA494CQhQuTOGkRERNQsToojIiIKAwx0IiKiMMBAJyIiCgMMdCIiojDAQCciIgoDDHQiIqIwwEAnIiIKAwx0IiKiMMBAJ6KgZrFY0L17dzz33HNyl3JBQggMGTIEDz74oNylUAfEQCeSycaNGyFJks+X0WjEZZddhjfffBPHjh1r9Pj5vjxcLhfmzp2LPn36QKfTITU1FU8++STq6uoa1SCEwMcff4yRI0ciPj4eJpMJffv2xezZs1FdXd2i47BYLFiwYAGGDh2K+Ph46PV6dO3aFddffz1ef/11n7arV6/GLbfcgu7du8NgMCAmJgZDhgzBvHnzvPehPtcbb7yByspK/OlPf/LZ7jnue++9t8nvGzt2bLN3YsvNzcXjjz+O9PR06PV6REdHY8SIEZg3b16z99RuCUmSMGvWLHzwwQfYs2dPm/dD1BZc+pVIJhs3bsSVV16Ju+++GzfeeCOEECgsLMSyZctw8OBBPPLIIxgzZozP93zxxRf48ssv8eyzzyIjI8Pnsfvuuw8A8D//8z+YP38+br/9dtxwww04cOAAFixYgNGjR2P9+vVQKH75O/65557Dq6++iquuugq33XYb1Go1Nm7ciOXLl+Pyyy/H1q1bz3tbS4fDgTFjxmDLli248cYbMW7cOBiNRuTm5mLHjh3Izs5GZWWlt/1rr72G7du3Y8iQIejSpQvMZjN+/PFHrFixAuPGjcM333zj83xmsxlJSUl44IEHMHfuXJ/n9rSTJAm7du3CoEGDfB4fO3YssrOzUVtb67P9q6++wt133w2lUon7778fAwcORH19PdasWYNvvvkGgwcPxtq1a31uzdlaPXv2xJAhQ7BixYo274Oo1WRcR56oQ9uwYYMAIP72t7/5bK+qqhJJSUlCkiRx+vRpn8defPFFAUBs2LChyX3u37//vLeQ/Ne//uXdZrfbhcFgEEOGDGl0J6p7771XABC7d+8+7zGsXLlSABBTp05t8vGioqLzfr/H448/LgA0uunG0qVLBQCxa9euRt8DQPTv319otVpx7bXXNnp8zJgxIiIiwmfbvn37hE6nEykpKU3ehGPx4sUCgLjiiisu6qZDL7zwglCr1S0+fiJ/4JA7UZCJjIzEiBEjIITA8ePHW/W9n3zyCYQQmDp1qs/2SZMmwWAw4KOPPvJus9vtMJvN6Ny5s0+vHQCSkpIAABEREed9viNHjgAArr766iYf79y5c4vq7tatGwCgoqLCZ/uKFSvQuXNnDB48uMnv69q1Kx5//HF88803+Pbbby/4PC+++CIsFgveeecd9OzZs9HjkyZNwvjx4/HDDz9g9erVAICamhr06tULXbp0QXFxsU/7Z599FpIk4d133/XZfsMNN8But+Pf//73BWsi8hcGOlGQEULg6NGjAID4+PhWfW9WVhYUCgWGDRvms12n02HQoEHIysrybtPr9bjiiivw9ddf4/XXX8fRo0dx4sQJLFu2DP/85z9x3333IT09/bzP5wnFjz76CGazucV11tTUoLS0FMePH8eHH36I119/HXFxcbj88su9bZxOJzZv3tzoWM713HPPISoqCn/+858hznMG0WKxYPXq1UhJScGNN97YbLtJkyYBAD7//HMAgMlkwqeffory8nLcf//93uf49ttv8frrr+O3v/0tHnroIZ99DBkyBFqtFhs3bjxv7UT+xEAnkll9fT1KS0tRUlKCnJwcPProo9i7dy+GDx9+wUA9V2FhIeLj46HVahs9lpycjNLSUthsNu+2f/3rX7jqqqvwzDPPID09HT169MBDDz2EadOm4YMPPrjg8916660YMmQIli9fji5duuCmm27C7NmzsX79etjt9ma/78EHH0RCQgJ69uyJiRMnIj09Hf/3f/+H6Ohob5tTp06htra2yZ702eLi4vD0009j586dWL58ebPtjhw5AqvV2mxv3+Oyyy4DAOzbt8+7LTMzE3PmzMHXX3+Nf/zjHyguLsZ9992Hbt264Z133mm0D41Gg5SUFPz000/nfS4if2KgE8nsxRdfREJCAhITEzFw4EC8++67uOWWW9o0XFtfX99kmAPuXrqnjYdWq0WPHj0wceJEfPLJJ/jkk09w55134pVXXsGrr756wefTaDT4/vvv8corr6Bbt25Ys2YNXnzxRVxzzTVISUnBv/71r2aPed26dfj444+9PeKysjKfNiUlJQCA2NjYC9YxdepUJCUlYebMmc3+IeGZtR8VFXXefUVGRgIAqqqqfLZPmzYNN954I5599lncdNNNKCsrw6effuptf664uLhGQ/REgcRAJ5LZo48+inXr1mH9+vXYunUrSkpK8NVXX7VplrXBYGj2sivPZWEGgwGAO9hHjhyJ6upqvP/++/jtb3+L3/72t1ixYgXuuusuvPDCCzh06NAFn9NoNOK5557D3r17UVlZiXXr1mHy5MmoqKjAxIkTsXnz5kbf079/f4wbNw533303Fi9ejAcffBA33HCDT1vPLPbzDaOffdyzZs3CsWPH8PbbbzfZprmgPldzwS9JEt5//31EREQgKysLs2bNOu/pACHEea8QIPI3BjqRzNLT0zFu3DhcffXVGD58eIt6pM1JSkpCaWlpk6FeUFCA+Ph4aDQaAMDKlStx5MgRjB8/vlHb8ePHw+VyYdOmTa16/sjISIwbNw4LFy7EW2+9BZfLhffee++C3+e55O7sME5ISAAAlJeXt+i5H3roIfTp0wevvPIKampqGj2enp4OrVaL3bt3n3c/u3btAuD+o+NcP/zwg/cyvAtdZ15eXu49BqL2wEAnCiNDhw6Fy+XCjh07fLZbLBbs2bMHmZmZ3m0FBQUA3JPPzuVwOHz+2xbDhw/3eZ7zsdlscLlcPuGdmpqKyMhI70z6C1EqlZgzZw6Ki4vx97//vdHjOp0ON9xwA/Lz8/H11183u5+lS5cCAO644w6f7adOncIjjzyCfv36Yfr06VixYgWWLFnS5D6sVivy8vLQr1+/FtVO5A8MdKIwctddd0GSJMybN89n+5IlS1BfX++zqtqll14KAHj//fcb7cezbejQod5tpaWlOHjwoM+Q9Z49e1BUVNRkLZ45AJ7nAYDTp0832Xb+/PkAfvkjAHAH9OjRo7F9+/Ymv6cpt912G0aOHIk33nijyfPXL730ErRaLR577DGcOHGi0ePvvvsuli9fjiuuuAI33XSTd7vT6cQ999wDi8WC5cuX4/XXX8eIESMwdepUHDhwoNF+du/eDZvN1mhhIKKAkvEaeKIOrbmFZc7nQgvLCCHEE088IQCI22+/XSxZskRMnz5dqFQqMWbMGJ8FZBwOhxg2bJgAIEaPHi3mzp0r5s6dK0aPHi0AiPHjxzf53O+9955329/+9jehVqvFr3/9a/Hqq6+Kd999V8ydO1fceuutQpIk0aVLF5Gfn+9tHxcXJ2699Vbx0ksviaVLl4rXXntNXH311d5FYqqrq32ec9myZU0uOCOEe2GZX//61422//jjjwKAANBoYRkh3Ivh6HQ6YTQaxRNPPCGWLFki3nzzTXH99dcLAGLQoEGNFvSZOXOmACAWL17s3ZabmyuioqLEgAEDhMVi8Wn//PPPc2EZancMdCKZBCrQHQ6H+Pvf/y4uueQSodFoRFJSkpg2bZqoqalp1La6ulrMmDFD9O7dW2g0GqHVakW/fv3E66+/Lux2e5PPfXag5+bmildeeUWMHTtWpKSkCI1GIwwGg7j00kvF9OnTGwXa7NmzxahRo0RiYqJQqVTCZDKJzMxM8eqrr4ra2tpG9ZnNZhEbGyueeOKJRo81F+hCCHHLLbc0G+hCCHHkyBHx2GOPibS0NKHVaoXJZBKXX365eOONN4TZbPZpu2HDBqFQKMSECRMa7Wf58uUCQKP6evToIX7zm980+dxEgcK13IkoqL322muYM2cOcnNzL2rCYHv56quvcMcdd2Dnzp2N1pcnCiQGOhEFNYvFgj59+uCee+5p0bXxchINt08dNGhQi2b3E/kTA52IiCgMcJY7ERFRGGCgExERhQEGOhERURhgoBMREYUBBjoREVEYYKATERGFAQY6ERFRGGCgExERhQEGOhERURhgoBMREYUBBjoREVEYYKATERGFAQY6ERFRGGCgExERhQEGOhERURhgoBMREYUBBjoREVEYYKATERGFAQY6ERFRGGCgExERhQEGOhERURj4f4eNJ/YUlBSSAAAAAElFTkSuQmCC' width=500.0/>\n",
       "            </div>\n",
       "        "
      ],
      "text/plain": [
       "Canvas(toolbar=Toolbar(toolitems=[('Home', 'Reset original view', 'home', 'home'), ('Back', 'Back to previous …"
      ]
     },
     "metadata": {},
     "output_type": "display_data"
    }
   ],
   "source": [
    "# 질소 산화물 분포 시각화\n",
    "sns.displot(df['PT08.S3(NOx)'], kde=True)"
   ]
  },
  {
   "cell_type": "code",
   "execution_count": 13,
   "metadata": {
    "tags": []
   },
   "outputs": [],
   "source": [
    "# [+] 로그 스케일로 변환: Common logarithm(log10)\n",
    "df['log'] = np.log10(df['PT08.S3(NOx)'])"
   ]
  },
  {
   "cell_type": "code",
   "execution_count": 14,
   "metadata": {
    "tags": []
   },
   "outputs": [
    {
     "data": {
      "text/plain": [
       "Datetime\n",
       "2004-03-10 18:00:00    3.023664\n",
       "2004-03-10 19:00:00    3.069668\n",
       "2004-03-10 20:00:00    3.056905\n",
       "2004-03-10 21:00:00    3.038223\n",
       "2004-03-10 22:00:00    3.080987\n",
       "                         ...   \n",
       "2005-04-04 10:00:00    2.731589\n",
       "2005-04-04 11:00:00    2.781037\n",
       "2005-04-04 12:00:00    2.780317\n",
       "2005-04-04 13:00:00    2.846337\n",
       "2005-04-04 14:00:00    2.815578\n",
       "Name: log, Length: 9357, dtype: float64"
      ]
     },
     "execution_count": 14,
     "metadata": {},
     "output_type": "execute_result"
    }
   ],
   "source": [
    "# 변환된 변수 출력\n",
    "df['log']"
   ]
  },
  {
   "cell_type": "code",
   "execution_count": 15,
   "metadata": {
    "tags": []
   },
   "outputs": [
    {
     "data": {
      "application/vnd.jupyter.widget-view+json": {
       "model_id": "c645438d9f104907a7ef786b3b9334ab",
       "version_major": 2,
       "version_minor": 0
      },
      "image/png": "[encoded data removed]",
      "text/html": [
       "\n",
       "            <div style=\"display: inline-block;\">\n",
       "                <div class=\"jupyter-widgets widget-label\" style=\"text-align: center;\">\n",
       "                    Figure\n",
       "                </div>\n",
       "                <img src='data:image/png;base64,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' width=500.0/>\n",
       "            </div>\n",
       "        "
      ],
      "text/plain": [
       "Canvas(toolbar=Toolbar(toolitems=[('Home', 'Reset original view', 'home', 'home'), ('Back', 'Back to previous …"
      ]
     },
     "metadata": {},
     "output_type": "display_data"
    }
   ],
   "source": [
    "# 변환된 변수의 분포 시각화\n",
    "sns.displot(df['log'], kde=True)\n",
    "plt.xlabel('log(NOx)')\n",
    "plt.show()"
   ]
  },
  {
   "cell_type": "markdown",
   "metadata": {},
   "source": [
    "### **원핫인코딩**(one-hot encoding)"
   ]
  },
  {
   "cell_type": "code",
   "execution_count": 16,
   "metadata": {
    "tags": []
   },
   "outputs": [
    {
     "data": {
      "text/html": [
       "<div>\n",
       "<style scoped>\n",
       "    .dataframe tbody tr th:only-of-type {\n",
       "        vertical-align: middle;\n",
       "    }\n",
       "\n",
       "    .dataframe tbody tr th {\n",
       "        vertical-align: top;\n",
       "    }\n",
       "\n",
       "    .dataframe thead th {\n",
       "        text-align: right;\n",
       "    }\n",
       "</style>\n",
       "<table border=\"1\" class=\"dataframe\">\n",
       "  <thead>\n",
       "    <tr style=\"text-align: right;\">\n",
       "      <th></th>\n",
       "      <th>emp_id</th>\n",
       "      <th>gender</th>\n",
       "      <th>remarks</th>\n",
       "    </tr>\n",
       "  </thead>\n",
       "  <tbody>\n",
       "    <tr>\n",
       "      <th>0</th>\n",
       "      <td>1</td>\n",
       "      <td>Male</td>\n",
       "      <td>Nice</td>\n",
       "    </tr>\n",
       "    <tr>\n",
       "      <th>1</th>\n",
       "      <td>2</td>\n",
       "      <td>Female</td>\n",
       "      <td>Good</td>\n",
       "    </tr>\n",
       "    <tr>\n",
       "      <th>2</th>\n",
       "      <td>3</td>\n",
       "      <td>Female</td>\n",
       "      <td>Great</td>\n",
       "    </tr>\n",
       "    <tr>\n",
       "      <th>3</th>\n",
       "      <td>4</td>\n",
       "      <td>Male</td>\n",
       "      <td>Great</td>\n",
       "    </tr>\n",
       "    <tr>\n",
       "      <th>4</th>\n",
       "      <td>5</td>\n",
       "      <td>Female</td>\n",
       "      <td>Nice</td>\n",
       "    </tr>\n",
       "  </tbody>\n",
       "</table>\n",
       "</div>"
      ],
      "text/plain": [
       "   emp_id  gender remarks\n",
       "0       1    Male    Nice\n",
       "1       2  Female    Good\n",
       "2       3  Female   Great\n",
       "3       4    Male   Great\n",
       "4       5  Female    Nice"
      ]
     },
     "execution_count": 16,
     "metadata": {},
     "output_type": "execute_result"
    }
   ],
   "source": [
    "# 예제 데이터: 인사 평가\n",
    "\n",
    "emp_id = pd.Series([1, 2, 3, 4, 5])\n",
    "gender = pd.Series(['Male', 'Female', 'Female', 'Male', 'Female'])\n",
    "remarks = pd.Series(['Nice', 'Good', 'Great', 'Great', 'Nice'])\n",
    "\n",
    "df_emp = pd.DataFrame()\n",
    "df_emp['emp_id'] = emp_id\n",
    "df_emp['gender'] = gender\n",
    "df_emp['remarks'] = remarks\n",
    "\n",
    "df_emp"
   ]
  },
  {
   "cell_type": "code",
   "execution_count": 17,
   "metadata": {
    "tags": []
   },
   "outputs": [
    {
     "name": "stdout",
     "output_type": "stream",
     "text": [
      "['Male' 'Female']\n",
      "['Nice' 'Good' 'Great']\n"
     ]
    }
   ],
   "source": [
    "# [+] 범주형 변수 별(gender, remarks) Unique value 리스트 출력\n",
    "print(df_emp['gender'].unique()) \n",
    "print(df_emp['remarks'].unique())"
   ]
  },
  {
   "cell_type": "code",
   "execution_count": 18,
   "metadata": {
    "tags": []
   },
   "outputs": [
    {
     "data": {
      "text/html": [
       "<div>\n",
       "<style scoped>\n",
       "    .dataframe tbody tr th:only-of-type {\n",
       "        vertical-align: middle;\n",
       "    }\n",
       "\n",
       "    .dataframe tbody tr th {\n",
       "        vertical-align: top;\n",
       "    }\n",
       "\n",
       "    .dataframe thead th {\n",
       "        text-align: right;\n",
       "    }\n",
       "</style>\n",
       "<table border=\"1\" class=\"dataframe\">\n",
       "  <thead>\n",
       "    <tr style=\"text-align: right;\">\n",
       "      <th></th>\n",
       "      <th>emp_id</th>\n",
       "      <th>gender_Female</th>\n",
       "      <th>gender_Male</th>\n",
       "      <th>remarks_Good</th>\n",
       "      <th>remarks_Great</th>\n",
       "      <th>remarks_Nice</th>\n",
       "    </tr>\n",
       "  </thead>\n",
       "  <tbody>\n",
       "    <tr>\n",
       "      <th>0</th>\n",
       "      <td>1</td>\n",
       "      <td>0.0</td>\n",
       "      <td>1.0</td>\n",
       "      <td>0.0</td>\n",
       "      <td>0.0</td>\n",
       "      <td>1.0</td>\n",
       "    </tr>\n",
       "    <tr>\n",
       "      <th>1</th>\n",
       "      <td>2</td>\n",
       "      <td>1.0</td>\n",
       "      <td>0.0</td>\n",
       "      <td>1.0</td>\n",
       "      <td>0.0</td>\n",
       "      <td>0.0</td>\n",
       "    </tr>\n",
       "    <tr>\n",
       "      <th>2</th>\n",
       "      <td>3</td>\n",
       "      <td>1.0</td>\n",
       "      <td>0.0</td>\n",
       "      <td>0.0</td>\n",
       "      <td>1.0</td>\n",
       "      <td>0.0</td>\n",
       "    </tr>\n",
       "    <tr>\n",
       "      <th>3</th>\n",
       "      <td>4</td>\n",
       "      <td>0.0</td>\n",
       "      <td>1.0</td>\n",
       "      <td>0.0</td>\n",
       "      <td>1.0</td>\n",
       "      <td>0.0</td>\n",
       "    </tr>\n",
       "    <tr>\n",
       "      <th>4</th>\n",
       "      <td>5</td>\n",
       "      <td>1.0</td>\n",
       "      <td>0.0</td>\n",
       "      <td>0.0</td>\n",
       "      <td>0.0</td>\n",
       "      <td>1.0</td>\n",
       "    </tr>\n",
       "  </tbody>\n",
       "</table>\n",
       "</div>"
      ],
      "text/plain": [
       "   emp_id  gender_Female  gender_Male  remarks_Good  remarks_Great  \\\n",
       "0       1            0.0          1.0           0.0            0.0   \n",
       "1       2            1.0          0.0           1.0            0.0   \n",
       "2       3            1.0          0.0           0.0            1.0   \n",
       "3       4            0.0          1.0           0.0            1.0   \n",
       "4       5            1.0          0.0           0.0            0.0   \n",
       "\n",
       "   remarks_Nice  \n",
       "0           1.0  \n",
       "1           0.0  \n",
       "2           0.0  \n",
       "3           0.0  \n",
       "4           1.0  "
      ]
     },
     "execution_count": 18,
     "metadata": {},
     "output_type": "execute_result"
    }
   ],
   "source": [
    "# [+] 원핫인코딩 적용: 범주형 변수 -> 이진값 벡터\n",
    "df_emp_encoded = pd.get_dummies(\n",
    "    df_emp,\n",
    "    columns=['gender', 'remarks'],\n",
    "    dtype=float\n",
    ")\n",
    "df_emp_encoded"
   ]
  },
  {
   "cell_type": "markdown",
   "metadata": {},
   "source": [
    "### **정규화**(normalization)"
   ]
  },
  {
   "cell_type": "code",
   "execution_count": 19,
   "metadata": {
    "tags": []
   },
   "outputs": [],
   "source": [
    "# [+] 비메탄탄화수소 변수 결측 데이터 처리\n",
    "nmhc = df['PT08.S2(NMHC)'].copy() # 복사본 생성\n",
    "nmhc.interpolate(inplace=True) # 결측치 처리"
   ]
  },
  {
   "cell_type": "code",
   "execution_count": 20,
   "metadata": {
    "tags": []
   },
   "outputs": [
    {
     "data": {
      "text/plain": [
       "np.int64(0)"
      ]
     },
     "execution_count": 20,
     "metadata": {},
     "output_type": "execute_result"
    }
   ],
   "source": [
    "# 결측치 확인\n",
    "nmhc.isnull().sum()"
   ]
  },
  {
   "cell_type": "code",
   "execution_count": 21,
   "metadata": {
    "tags": []
   },
   "outputs": [
    {
     "data": {
      "text/plain": [
       "<matplotlib.legend.Legend at 0x19d76845d80>"
      ]
     },
     "execution_count": 21,
     "metadata": {},
     "output_type": "execute_result"
    }
   ],
   "source": [
    "# 스케일이 서로 다른 두 변수 시각화\n",
    "plt.plot(co, label='Carbon monooxide')\n",
    "plt.plot(nmhc, label='Non-methane hydrocarbon')\n",
    "plt.ylabel('Concentration')\n",
    "plt.legend(loc='best')"
   ]
  },
  {
   "cell_type": "code",
   "execution_count": 22,
   "metadata": {
    "tags": []
   },
   "outputs": [
    {
     "data": {
      "text/plain": [
       "Datetime\n",
       "2004-03-10 18:00:00    0.218487\n",
       "2004-03-10 19:00:00    0.168067\n",
       "2004-03-10 20:00:00    0.184874\n",
       "2004-03-10 21:00:00    0.184874\n",
       "2004-03-10 22:00:00    0.134454\n",
       "                         ...   \n",
       "2005-04-04 10:00:00    0.260504\n",
       "2005-04-04 11:00:00    0.201681\n",
       "2005-04-04 12:00:00    0.201681\n",
       "2005-04-04 13:00:00    0.176471\n",
       "2005-04-04 14:00:00    0.184874\n",
       "Name: CO_Norm, Length: 9357, dtype: float64"
      ]
     },
     "execution_count": 22,
     "metadata": {},
     "output_type": "execute_result"
    }
   ],
   "source": [
    "# [+] 일산화탄소 변수 정규화\n",
    "co_max = co.max()  # 최대값\n",
    "co_min = co.min()  # 최소값\n",
    "\n",
    "# 최소-최대 정규화\n",
    "df['CO_Norm'] = (co - co_min) / (co_max - co_min)\n",
    "df['CO_Norm']"
   ]
  },
  {
   "cell_type": "code",
   "execution_count": 23,
   "metadata": {
    "tags": []
   },
   "outputs": [
    {
     "data": {
      "text/plain": [
       "Datetime\n",
       "2004-03-10 18:00:00    0.362097\n",
       "2004-03-10 19:00:00    0.312398\n",
       "2004-03-10 20:00:00    0.303659\n",
       "2004-03-10 21:00:00    0.308575\n",
       "2004-03-10 22:00:00    0.247406\n",
       "                         ...   \n",
       "2005-04-04 10:00:00    0.392135\n",
       "2005-04-04 11:00:00    0.351720\n",
       "2005-04-04 12:00:00    0.371382\n",
       "2005-04-04 13:00:00    0.315674\n",
       "2005-04-04 14:00:00    0.362643\n",
       "Name: NMHC_Norm, Length: 9357, dtype: float64"
      ]
     },
     "execution_count": 23,
     "metadata": {},
     "output_type": "execute_result"
    }
   ],
   "source": [
    "# [+] 비메탄탄화수소 변수 정규화\n",
    "nmhc_max = nmhc.max()\n",
    "nmhc_min = nmhc.min()\n",
    "\n",
    "df['NMHC_Norm'] = (nmhc - nmhc_min) / (nmhc_max - nmhc_min) \n",
    "df['NMHC_Norm']"
   ]
  },
  {
   "cell_type": "code",
   "execution_count": 24,
   "metadata": {
    "tags": []
   },
   "outputs": [
    {
     "data": {
      "text/plain": [
       "<matplotlib.legend.Legend at 0x19d768d3eb0>"
      ]
     },
     "execution_count": 24,
     "metadata": {},
     "output_type": "execute_result"
    }
   ],
   "source": [
    "# 정규화된 두 변수 시각화\n",
    "plt.plot(df['CO_Norm'], label='Carbon monooxide')\n",
    "plt.plot(df['NMHC_Norm'], label='Non-methane hydrocarbon')\n",
    "plt.ylabel('Concentration')\n",
    "plt.legend(loc='best')"
   ]
  },
  {
   "cell_type": "markdown",
   "metadata": {},
   "source": [
    "### **특징 분할**"
   ]
  },
  {
   "cell_type": "code",
   "execution_count": 25,
   "metadata": {
    "tags": []
   },
   "outputs": [
    {
     "data": {
      "text/plain": [
       "0    The Godfather, 1972, Francis Ford Coppola\n",
       "1               Contact, 1997, Robert Zemeckis\n",
       "2                 Parasite, 2019, Joon-ho Bong\n",
       "dtype: object"
      ]
     },
     "execution_count": 25,
     "metadata": {},
     "output_type": "execute_result"
    }
   ],
   "source": [
    "# 예제: 영화 데이터\n",
    "movies = pd.Series([\"The Godfather, 1972, Francis Ford Coppola\",\n",
    "                    \"Contact, 1997, Robert Zemeckis\",\n",
    "                   \"Parasite, 2019, Joon-ho Bong\"])\n",
    "\n",
    "movies"
   ]
  },
  {
   "cell_type": "code",
   "execution_count": 26,
   "metadata": {
    "tags": []
   },
   "outputs": [
    {
     "name": "stdout",
     "output_type": "stream",
     "text": [
      "['The Godfather', 'Contact', 'Parasite']\n",
      "[' 1972', ' 1997', ' 2019']\n",
      "[' Francis Ford Coppola', ' Robert Zemeckis', ' Joon-ho Bong']\n"
     ]
    }
   ],
   "source": [
    "# 영화 데이터의 값 부\n",
    "# Divide movie data into title, year, director columns\n",
    "lst_title = []\n",
    "lst_year = []\n",
    "lst_director = []\n",
    "\n",
    "for val in movies:\n",
    "    title, year, director = val.split(',')  # data split\n",
    "    lst_title.append(title)\n",
    "    lst_year.append(year)\n",
    "    lst_director.append(director)\n",
    "\n",
    "print(lst_title)\n",
    "print(lst_year)\n",
    "print(lst_director)"
   ]
  },
  {
   "cell_type": "code",
   "execution_count": 27,
   "metadata": {
    "tags": []
   },
   "outputs": [
    {
     "data": {
      "text/html": [
       "<div>\n",
       "<style scoped>\n",
       "    .dataframe tbody tr th:only-of-type {\n",
       "        vertical-align: middle;\n",
       "    }\n",
       "\n",
       "    .dataframe tbody tr th {\n",
       "        vertical-align: top;\n",
       "    }\n",
       "\n",
       "    .dataframe thead th {\n",
       "        text-align: right;\n",
       "    }\n",
       "</style>\n",
       "<table border=\"1\" class=\"dataframe\">\n",
       "  <thead>\n",
       "    <tr style=\"text-align: right;\">\n",
       "      <th></th>\n",
       "      <th>title</th>\n",
       "      <th>year</th>\n",
       "      <th>director</th>\n",
       "    </tr>\n",
       "  </thead>\n",
       "  <tbody>\n",
       "    <tr>\n",
       "      <th>0</th>\n",
       "      <td>The Godfather</td>\n",
       "      <td>1972</td>\n",
       "      <td>Francis Ford Coppola</td>\n",
       "    </tr>\n",
       "    <tr>\n",
       "      <th>1</th>\n",
       "      <td>Contact</td>\n",
       "      <td>1997</td>\n",
       "      <td>Robert Zemeckis</td>\n",
       "    </tr>\n",
       "    <tr>\n",
       "      <th>2</th>\n",
       "      <td>Parasite</td>\n",
       "      <td>2019</td>\n",
       "      <td>Joon-ho Bong</td>\n",
       "    </tr>\n",
       "  </tbody>\n",
       "</table>\n",
       "</div>"
      ],
      "text/plain": [
       "           title   year               director\n",
       "0  The Godfather   1972   Francis Ford Coppola\n",
       "1        Contact   1997        Robert Zemeckis\n",
       "2       Parasite   2019           Joon-ho Bong"
      ]
     },
     "execution_count": 27,
     "metadata": {},
     "output_type": "execute_result"
    }
   ],
   "source": [
    "# Make a DataFrame object\n",
    "df_movie = pd.DataFrame()\n",
    "df_movie['title'] = lst_title\n",
    "df_movie['year'] = lst_year\n",
    "df_movie['director'] = lst_director\n",
    "\n",
    "df_movie"
   ]
  },
  {
   "cell_type": "code",
   "execution_count": null,
   "metadata": {},
   "outputs": [],
   "source": []
  },
  {
   "cell_type": "code",
   "execution_count": null,
   "metadata": {},
   "outputs": [],
   "source": []
  }
 ],
 "metadata": {
  "kernelspec": {
   "display_name": "Python 3 (ipykernel)",
   "language": "python",
   "name": "python3"
  },
  "language_info": {
   "codemirror_mode": {
    "name": "ipython",
    "version": 3
   },
   "file_extension": ".py",
   "mimetype": "text/x-python",
   "name": "python",
   "nbconvert_exporter": "python",
   "pygments_lexer": "ipython3",
   "version": "3.10.6"
  }
 },
 "nbformat": 4,
 "nbformat_minor": 4
}
