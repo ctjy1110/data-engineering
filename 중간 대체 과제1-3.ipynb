{
 "cells": [
  {
   "cell_type": "code",
   "execution_count": 1,
   "id": "8823732a-3e79-4554-968e-d98bf744422f",
   "metadata": {},
   "outputs": [],
   "source": [
    "# Provided lists\n",
    "hairstyles = [\"bouffant\", \"pixie\", \"dreadlocks\", \"crew\", \"bowl\", \"bob\", \"mohawk\", \"flattop\"]\n",
    "prices = [30, 25, 40, 20, 20, 35, 50, 35]\n",
    "last_week = [2, 3, 5, 8, 4, 4, 6, 2]"
   ]
  },
  {
   "cell_type": "code",
   "execution_count": 3,
   "id": "dcecf5ad-26f0-44d6-b038-755c4a39651f",
   "metadata": {},
   "outputs": [
    {
     "name": "stdout",
     "output_type": "stream",
     "text": [
      "Average price is 31.875\n"
     ]
    }
   ],
   "source": [
    "# Calculate the average price of a haircut\n",
    "total_price = 0\n",
    "for price in prices:\n",
    "    total_price += price\n",
    "\n",
    "average_price = total_price / len(prices)\n",
    "print(\"Average price is\", average_price)"
   ]
  },
  {
   "cell_type": "code",
   "execution_count": 4,
   "id": "d0b7e085-2c7a-492d-8e58-4f7636a7e0ec",
   "metadata": {},
   "outputs": [
    {
     "name": "stdout",
     "output_type": "stream",
     "text": [
      "New prices: [25, 20, 35, 15, 15, 30, 45, 30]\n"
     ]
    }
   ],
   "source": [
    "# Reduce all prices by 5 dollars using list comprehension\n",
    "new_prices = [price - 5 for price in prices]\n",
    "print(\"New prices:\", new_prices)"
   ]
  },
  {
   "cell_type": "code",
   "execution_count": 5,
   "id": "35e1783e-b3a8-4b76-8e2d-7862e33bacdc",
   "metadata": {},
   "outputs": [
    {
     "name": "stdout",
     "output_type": "stream",
     "text": [
      "Total revenue: 1085\n"
     ]
    }
   ],
   "source": [
    "# Calculate the total revenue for last week\n",
    "total_revenue = 0\n",
    "for i in range(len(hairstyles)):\n",
    "    total_revenue += prices[i] * last_week[i]\n",
    "\n",
    "print(\"Total revenue:\", total_revenue)"
   ]
  },
  {
   "cell_type": "code",
   "execution_count": 6,
   "id": "43b825b8-d426-415d-927d-df715322f674",
   "metadata": {},
   "outputs": [
    {
     "name": "stdout",
     "output_type": "stream",
     "text": [
      "Average daily revenue is 155.0\n"
     ]
    }
   ],
   "source": [
    "# Calculate average daily revenue\n",
    "average_daily_revenue = total_revenue / 7\n",
    "print(\"Average daily revenue is\", average_daily_revenue)"
   ]
  },
  {
   "cell_type": "code",
   "execution_count": 7,
   "id": "570999f1-2f0f-4301-90c7-bc04a3588ed7",
   "metadata": {},
   "outputs": [
    {
     "name": "stdout",
     "output_type": "stream",
     "text": [
      "Cuts under 30: ['bouffant', 'pixie', 'crew', 'bowl']\n"
     ]
    }
   ],
   "source": [
    "# List hairstyles that are under 30 dollars with new prices\n",
    "cuts_under_30 = [hairstyles[i] for i in range(len(new_prices)) if new_prices[i] < 30]\n",
    "print(\"Cuts under 30:\", cuts_under_30)"
   ]
  },
  {
   "cell_type": "code",
   "execution_count": null,
   "id": "cb3db855-abf5-46df-9307-3da7a4d4a046",
   "metadata": {},
   "outputs": [],
   "source": []
  }
 ],
 "metadata": {
  "kernelspec": {
   "display_name": "Python 3 (ipykernel)",
   "language": "python",
   "name": "python3"
  },
  "language_info": {
   "codemirror_mode": {
    "name": "ipython",
    "version": 3
   },
   "file_extension": ".py",
   "mimetype": "text/x-python",
   "name": "python",
   "nbconvert_exporter": "python",
   "pygments_lexer": "ipython3",
   "version": "3.10.6"
  }
 },
 "nbformat": 4,
 "nbformat_minor": 5
}
