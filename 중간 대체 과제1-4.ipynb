{
 "cells": [
  {
   "cell_type": "code",
   "execution_count": 9,
   "id": "08c39c5a-db60-4be8-973f-a875c1434a36",
   "metadata": {},
   "outputs": [],
   "source": [
    "months = ['쌍', '쇠', '복', '돌', '팽', '육', '쌍', '개', '칠', '갑', '삼', '방']"
   ]
  },
  {
   "cell_type": "code",
   "execution_count": 10,
   "id": "959da5f1-4be1-4ee1-9403-15980017e85e",
   "metadata": {},
   "outputs": [],
   "source": [
    "days = ['봉', '구', '욕', '포', '똥', '삼', '식', '석', '놈', '님', '년', '돌', '단', '득', '방', '질', '장', '걸', '래', '룡', '동', '순', '자', '박', '창', '언', '것', '포', '만', '단', '국']"
   ]
  },
  {
   "cell_type": "code",
   "execution_count": 11,
   "id": "7a6e351a-ab35-4b9e-ad80-a97d2c042a2d",
   "metadata": {},
   "outputs": [],
   "source": [
    "def get_my_chosun_name(family_name, month, day):\n",
    "    print(\"당신의 조선시대 이름은\",family_name+months[month-1]+days[day-1]+\" 입니다.\")  "
   ]
  },
  {
   "cell_type": "code",
   "execution_count": 12,
   "id": "0098509a-723d-47d2-a34d-666283880809",
   "metadata": {},
   "outputs": [
    {
     "name": "stdout",
     "output_type": "stream",
     "text": [
      "당신의 조선시대 이름은 허삼님 입니다.\n"
     ]
    }
   ],
   "source": [
    "get_my_chosun_name('허', 11, 10)"
   ]
  },
  {
   "cell_type": "code",
   "execution_count": 13,
   "id": "e03f2079-c56a-4155-b476-b7c3fef79169",
   "metadata": {},
   "outputs": [
    {
     "name": "stdout",
     "output_type": "stream",
     "text": [
      "['쌍', '쇠', '복', '돌', '팽', '육', '쌍', '개', '칠', '갑', '삼', '방']\n"
     ]
    }
   ],
   "source": [
    "def get_my_chosun_name(family_name, month, day):\n",
    "    month_names = ['쌍', '쇠', '복', '돌', '팽', '육', '쌍', '개', '칠', '갑', '삼', '방']\n",
    "    \n",
    "month_names_list = ['쌍', '쇠', '복', '돌', '팽', '육', '쌍', '개', '칠', '갑', '삼', '방']\n",
    "    \n",
    "print(month_names_list)"
   ]
  },
  {
   "cell_type": "code",
   "execution_count": 14,
   "id": "3df5c430-ca7b-4c24-b8f5-2a799dfe361b",
   "metadata": {},
   "outputs": [
    {
     "name": "stdout",
     "output_type": "stream",
     "text": [
      "['봉', '구', '욕', '포', '똥', '삼', '식', '석', '놈', '님', '년', '돌', '단', '득', '방', '질', '장', '걸', '래', '룡', '동', '순', '자', '박', '창', '언', '것', '포', '만', '단', '국']\n"
     ]
    }
   ],
   "source": [
    "day_names_list = ['봉', '구', '욕', '포', '똥', '삼', '식', '석', '놈', '님', '년', '돌', '단', '득', '방', '질', '장', '걸', '래', '룡', '동', '순', '자', '박', '창', '언', '것', '포', '만', '단', '국']\n",
    "\n",
    "print(day_names_list)"
   ]
  },
  {
   "cell_type": "code",
   "execution_count": 16,
   "id": "1bf7d1da-fc82-4a55-be04-6b50002b3a07",
   "metadata": {},
   "outputs": [
    {
     "name": "stdout",
     "output_type": "stream",
     "text": [
      "허삼님\n"
     ]
    }
   ],
   "source": [
    "def get_my_chosun_name(family_name, month, day):\n",
    "    month_names = ['쌍', '쇠', '복', '돌', '팽', '육', '쌍', '개', '칠', '갑', '삼', '방']\n",
    "    day_names = ['봉', '구', '욕', '포', '똥', '삼', '식', '석', '놈', '님', '년', '돌', '단', '득', '방', '질', '장', '걸', '래', '룡', '동', '순', '자', '박', '창', '언', '것', '포', '만', '단', '국']\n",
    "\n",
    "    chosun_name = family_name + month_names[month - 1] + day_names[day - 1]\n",
    "\n",
    "    return chosun_name\n",
    "\n",
    "family_name = '허'\n",
    "birth_month = 11\n",
    "birth_day = 10\n",
    "\n",
    "my_chosun_name = get_my_chosun_name(family_name, birth_month, birth_day)\n",
    "print(my_chosun_name)\n"
   ]
  },
  {
   "cell_type": "code",
   "execution_count": null,
   "id": "15fb6d01-5b55-4457-a031-ec4554b795f6",
   "metadata": {},
   "outputs": [],
   "source": []
  }
 ],
 "metadata": {
  "kernelspec": {
   "display_name": "Python 3 (ipykernel)",
   "language": "python",
   "name": "python3"
  },
  "language_info": {
   "codemirror_mode": {
    "name": "ipython",
    "version": 3
   },
   "file_extension": ".py",
   "mimetype": "text/x-python",
   "name": "python",
   "nbconvert_exporter": "python",
   "pygments_lexer": "ipython3",
   "version": "3.10.6"
  }
 },
 "nbformat": 4,
 "nbformat_minor": 5
}
